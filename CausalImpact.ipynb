{
  "cells": [
    {
      "cell_type": "markdown",
      "metadata": {
        "id": "view-in-github",
        "colab_type": "text"
      },
      "source": [
        "<a href=\"https://colab.research.google.com/github/swap-253/COVID-19-Radiography-Results-Prediction-Using-CNNs/blob/main/CausalImpact.ipynb\" target=\"_parent\"><img src=\"https://colab.research.google.com/assets/colab-badge.svg\" alt=\"Open In Colab\"/></a>"
      ]
    },
    {
      "cell_type": "code",
      "execution_count": null,
      "metadata": {
        "colab": {
          "background_save": true
        },
        "id": "YgM4yPHnvTd3",
        "outputId": "3e950a19-ee0a-4f24-f908-e288744861d8"
      },
      "outputs": [
        {
          "data": {
            "text/html": [
              "\n",
              "     <input type=\"file\" id=\"files-b6a37220-b524-4b2e-96f5-fc8be5938688\" name=\"files[]\" multiple disabled\n",
              "        style=\"border:none\" />\n",
              "     <output id=\"result-b6a37220-b524-4b2e-96f5-fc8be5938688\">\n",
              "      Upload widget is only available when the cell has been executed in the\n",
              "      current browser session. Please rerun this cell to enable.\n",
              "      </output>\n",
              "      <script src=\"/nbextensions/google.colab/files.js\"></script> "
            ],
            "text/plain": [
              "<IPython.core.display.HTML object>"
            ]
          },
          "metadata": {},
          "output_type": "display_data"
        }
      ],
      "source": [
        "import pandas as pd\n",
        "import numpy as np\n",
        "import matplotlib.pyplot as plt\n",
        "from google.colab import files\n",
        "files.upload()"
      ]
    },
    {
      "cell_type": "code",
      "execution_count": null,
      "metadata": {
        "colab": {
          "base_uri": "https://localhost:8080/",
          "height": 391
        },
        "id": "drsfiqvYvV-T",
        "outputId": "f751e5fa-2564-459b-af96-4da684be30bc"
      },
      "outputs": [
        {
          "data": {
            "text/html": [
              "\n",
              "  <div id=\"df-008187b1-a995-4533-853b-704037e697c4\">\n",
              "    <div class=\"colab-df-container\">\n",
              "      <div>\n",
              "<style scoped>\n",
              "    .dataframe tbody tr th:only-of-type {\n",
              "        vertical-align: middle;\n",
              "    }\n",
              "\n",
              "    .dataframe tbody tr th {\n",
              "        vertical-align: top;\n",
              "    }\n",
              "\n",
              "    .dataframe thead th {\n",
              "        text-align: right;\n",
              "    }\n",
              "</style>\n",
              "<table border=\"1\" class=\"dataframe\">\n",
              "  <thead>\n",
              "    <tr style=\"text-align: right;\">\n",
              "      <th></th>\n",
              "      <th>COUNTRY</th>\n",
              "      <th>COMPANY</th>\n",
              "      <th>BRAND</th>\n",
              "      <th>CATEGORY</th>\n",
              "      <th>PRODUCT_CODE</th>\n",
              "      <th>FORMAT</th>\n",
              "      <th>WEEK_END_DATE</th>\n",
              "      <th>UNITS</th>\n",
              "      <th>AMT_VALUE</th>\n",
              "      <th>BASE_UNITS</th>\n",
              "      <th>BASE_AMT_VALUE</th>\n",
              "      <th>ACV_DISTRIBUTION</th>\n",
              "      <th>ID</th>\n",
              "    </tr>\n",
              "  </thead>\n",
              "  <tbody>\n",
              "    <tr>\n",
              "      <th>0</th>\n",
              "      <td>Germany</td>\n",
              "      <td>CarryFive Enterprises</td>\n",
              "      <td>BR013</td>\n",
              "      <td>DISHWASHER PRODUCTS</td>\n",
              "      <td>S_4551211540772</td>\n",
              "      <td>TABLETS WITH SOLUBLE FILM</td>\n",
              "      <td>2020-02-29</td>\n",
              "      <td>0</td>\n",
              "      <td>0.0</td>\n",
              "      <td>0.0</td>\n",
              "      <td>0.0</td>\n",
              "      <td>0.0</td>\n",
              "      <td>2018-10-13_S_4551211540772</td>\n",
              "    </tr>\n",
              "    <tr>\n",
              "      <th>1</th>\n",
              "      <td>Germany</td>\n",
              "      <td>CarryFive Enterprises</td>\n",
              "      <td>BR014</td>\n",
              "      <td>AIRCARE - MAIN</td>\n",
              "      <td>S_1941017257445</td>\n",
              "      <td>AUTOMATIC SPRAY</td>\n",
              "      <td>2020-07-18</td>\n",
              "      <td>149</td>\n",
              "      <td>1461.7</td>\n",
              "      <td>149.0</td>\n",
              "      <td>1462.0</td>\n",
              "      <td>32.0</td>\n",
              "      <td>2019-03-02_S_1941017257445</td>\n",
              "    </tr>\n",
              "    <tr>\n",
              "      <th>2</th>\n",
              "      <td>Germany</td>\n",
              "      <td>CarryFive Enterprises</td>\n",
              "      <td>BR014</td>\n",
              "      <td>AIRCARE - MAIN</td>\n",
              "      <td>S_6465079411571</td>\n",
              "      <td>AUTOMATIC SPRAY</td>\n",
              "      <td>2020-06-06</td>\n",
              "      <td>50</td>\n",
              "      <td>198.9</td>\n",
              "      <td>50.0</td>\n",
              "      <td>198.9</td>\n",
              "      <td>9.0</td>\n",
              "      <td>2019-01-19_S_6465079411571</td>\n",
              "    </tr>\n",
              "    <tr>\n",
              "      <th>3</th>\n",
              "      <td>Germany</td>\n",
              "      <td>CarryFive Enterprises</td>\n",
              "      <td>BR014</td>\n",
              "      <td>AIRCARE - MAIN</td>\n",
              "      <td>S_4071113797455</td>\n",
              "      <td>STANDARD SPRAY</td>\n",
              "      <td>2019-08-17</td>\n",
              "      <td>0</td>\n",
              "      <td>0.0</td>\n",
              "      <td>0.0</td>\n",
              "      <td>0.0</td>\n",
              "      <td>0.0</td>\n",
              "      <td>2018-03-31_S_4071113797455</td>\n",
              "    </tr>\n",
              "    <tr>\n",
              "      <th>4</th>\n",
              "      <td>Germany</td>\n",
              "      <td>CarryFive Enterprises</td>\n",
              "      <td>BR014</td>\n",
              "      <td>AIRCARE - MAIN</td>\n",
              "      <td>S_4717130715785</td>\n",
              "      <td>PORTABLE ELECTRICAL</td>\n",
              "      <td>2019-12-21</td>\n",
              "      <td>0</td>\n",
              "      <td>0.0</td>\n",
              "      <td>0.0</td>\n",
              "      <td>0.0</td>\n",
              "      <td>0.0</td>\n",
              "      <td>2018-08-04_S_4717130715785</td>\n",
              "    </tr>\n",
              "  </tbody>\n",
              "</table>\n",
              "</div>\n",
              "      <button class=\"colab-df-convert\" onclick=\"convertToInteractive('df-008187b1-a995-4533-853b-704037e697c4')\"\n",
              "              title=\"Convert this dataframe to an interactive table.\"\n",
              "              style=\"display:none;\">\n",
              "        \n",
              "  <svg xmlns=\"http://www.w3.org/2000/svg\" height=\"24px\"viewBox=\"0 0 24 24\"\n",
              "       width=\"24px\">\n",
              "    <path d=\"M0 0h24v24H0V0z\" fill=\"none\"/>\n",
              "    <path d=\"M18.56 5.44l.94 2.06.94-2.06 2.06-.94-2.06-.94-.94-2.06-.94 2.06-2.06.94zm-11 1L8.5 8.5l.94-2.06 2.06-.94-2.06-.94L8.5 2.5l-.94 2.06-2.06.94zm10 10l.94 2.06.94-2.06 2.06-.94-2.06-.94-.94-2.06-.94 2.06-2.06.94z\"/><path d=\"M17.41 7.96l-1.37-1.37c-.4-.4-.92-.59-1.43-.59-.52 0-1.04.2-1.43.59L10.3 9.45l-7.72 7.72c-.78.78-.78 2.05 0 2.83L4 21.41c.39.39.9.59 1.41.59.51 0 1.02-.2 1.41-.59l7.78-7.78 2.81-2.81c.8-.78.8-2.07 0-2.86zM5.41 20L4 18.59l7.72-7.72 1.47 1.35L5.41 20z\"/>\n",
              "  </svg>\n",
              "      </button>\n",
              "      \n",
              "  <style>\n",
              "    .colab-df-container {\n",
              "      display:flex;\n",
              "      flex-wrap:wrap;\n",
              "      gap: 12px;\n",
              "    }\n",
              "\n",
              "    .colab-df-convert {\n",
              "      background-color: #E8F0FE;\n",
              "      border: none;\n",
              "      border-radius: 50%;\n",
              "      cursor: pointer;\n",
              "      display: none;\n",
              "      fill: #1967D2;\n",
              "      height: 32px;\n",
              "      padding: 0 0 0 0;\n",
              "      width: 32px;\n",
              "    }\n",
              "\n",
              "    .colab-df-convert:hover {\n",
              "      background-color: #E2EBFA;\n",
              "      box-shadow: 0px 1px 2px rgba(60, 64, 67, 0.3), 0px 1px 3px 1px rgba(60, 64, 67, 0.15);\n",
              "      fill: #174EA6;\n",
              "    }\n",
              "\n",
              "    [theme=dark] .colab-df-convert {\n",
              "      background-color: #3B4455;\n",
              "      fill: #D2E3FC;\n",
              "    }\n",
              "\n",
              "    [theme=dark] .colab-df-convert:hover {\n",
              "      background-color: #434B5C;\n",
              "      box-shadow: 0px 1px 3px 1px rgba(0, 0, 0, 0.15);\n",
              "      filter: drop-shadow(0px 1px 2px rgba(0, 0, 0, 0.3));\n",
              "      fill: #FFFFFF;\n",
              "    }\n",
              "  </style>\n",
              "\n",
              "      <script>\n",
              "        const buttonEl =\n",
              "          document.querySelector('#df-008187b1-a995-4533-853b-704037e697c4 button.colab-df-convert');\n",
              "        buttonEl.style.display =\n",
              "          google.colab.kernel.accessAllowed ? 'block' : 'none';\n",
              "\n",
              "        async function convertToInteractive(key) {\n",
              "          const element = document.querySelector('#df-008187b1-a995-4533-853b-704037e697c4');\n",
              "          const dataTable =\n",
              "            await google.colab.kernel.invokeFunction('convertToInteractive',\n",
              "                                                     [key], {});\n",
              "          if (!dataTable) return;\n",
              "\n",
              "          const docLinkHtml = 'Like what you see? Visit the ' +\n",
              "            '<a target=\"_blank\" href=https://colab.research.google.com/notebooks/data_table.ipynb>data table notebook</a>'\n",
              "            + ' to learn more about interactive tables.';\n",
              "          element.innerHTML = '';\n",
              "          dataTable['output_type'] = 'display_data';\n",
              "          await google.colab.output.renderOutput(dataTable, element);\n",
              "          const docLink = document.createElement('div');\n",
              "          docLink.innerHTML = docLinkHtml;\n",
              "          element.appendChild(docLink);\n",
              "        }\n",
              "      </script>\n",
              "    </div>\n",
              "  </div>\n",
              "  "
            ],
            "text/plain": [
              "   COUNTRY                COMPANY  BRAND             CATEGORY  \\\n",
              "0  Germany  CarryFive Enterprises  BR013  DISHWASHER PRODUCTS   \n",
              "1  Germany  CarryFive Enterprises  BR014       AIRCARE - MAIN   \n",
              "2  Germany  CarryFive Enterprises  BR014       AIRCARE - MAIN   \n",
              "3  Germany  CarryFive Enterprises  BR014       AIRCARE - MAIN   \n",
              "4  Germany  CarryFive Enterprises  BR014       AIRCARE - MAIN   \n",
              "\n",
              "      PRODUCT_CODE                     FORMAT WEEK_END_DATE  UNITS  AMT_VALUE  \\\n",
              "0  S_4551211540772  TABLETS WITH SOLUBLE FILM    2020-02-29      0        0.0   \n",
              "1  S_1941017257445            AUTOMATIC SPRAY    2020-07-18    149     1461.7   \n",
              "2  S_6465079411571            AUTOMATIC SPRAY    2020-06-06     50      198.9   \n",
              "3  S_4071113797455             STANDARD SPRAY    2019-08-17      0        0.0   \n",
              "4  S_4717130715785        PORTABLE ELECTRICAL    2019-12-21      0        0.0   \n",
              "\n",
              "   BASE_UNITS  BASE_AMT_VALUE  ACV_DISTRIBUTION                          ID  \n",
              "0         0.0             0.0               0.0  2018-10-13_S_4551211540772  \n",
              "1       149.0          1462.0              32.0  2019-03-02_S_1941017257445  \n",
              "2        50.0           198.9               9.0  2019-01-19_S_6465079411571  \n",
              "3         0.0             0.0               0.0  2018-03-31_S_4071113797455  \n",
              "4         0.0             0.0               0.0  2018-08-04_S_4717130715785  "
            ]
          },
          "execution_count": 141,
          "metadata": {},
          "output_type": "execute_result"
        }
      ],
      "source": [
        "df=pd.read_csv('txt1.csv')\n",
        "df.head()"
      ]
    },
    {
      "cell_type": "code",
      "execution_count": null,
      "metadata": {
        "id": "-3woYuuoLrfm"
      },
      "outputs": [],
      "source": [
        "df['PRICE_UNIT']=df['AMT_VALUE']/df['UNITS']\n",
        "df['PRICE_UNIT'].fillna(0,inplace=True)"
      ]
    },
    {
      "cell_type": "code",
      "execution_count": null,
      "metadata": {
        "colab": {
          "base_uri": "https://localhost:8080/",
          "height": 391
        },
        "id": "TUdsYbiHvk9_",
        "outputId": "58d26299-db8a-41d0-e539-e5d2356922ed"
      },
      "outputs": [
        {
          "data": {
            "text/html": [
              "\n",
              "  <div id=\"df-f4a98d32-a7d4-4387-bc84-cd6cc3d780a4\">\n",
              "    <div class=\"colab-df-container\">\n",
              "      <div>\n",
              "<style scoped>\n",
              "    .dataframe tbody tr th:only-of-type {\n",
              "        vertical-align: middle;\n",
              "    }\n",
              "\n",
              "    .dataframe tbody tr th {\n",
              "        vertical-align: top;\n",
              "    }\n",
              "\n",
              "    .dataframe thead th {\n",
              "        text-align: right;\n",
              "    }\n",
              "</style>\n",
              "<table border=\"1\" class=\"dataframe\">\n",
              "  <thead>\n",
              "    <tr style=\"text-align: right;\">\n",
              "      <th></th>\n",
              "      <th>COUNTRY</th>\n",
              "      <th>COMPANY</th>\n",
              "      <th>BRAND</th>\n",
              "      <th>CATEGORY</th>\n",
              "      <th>PRODUCT_CODE</th>\n",
              "      <th>FORMAT</th>\n",
              "      <th>WEEK_END_DATE</th>\n",
              "      <th>UNITS</th>\n",
              "      <th>AMT_VALUE</th>\n",
              "      <th>BASE_UNITS</th>\n",
              "      <th>BASE_AMT_VALUE</th>\n",
              "      <th>ACV_DISTRIBUTION</th>\n",
              "      <th>ID</th>\n",
              "    </tr>\n",
              "  </thead>\n",
              "  <tbody>\n",
              "    <tr>\n",
              "      <th>0</th>\n",
              "      <td>Germany</td>\n",
              "      <td>CarryFive Enterprises</td>\n",
              "      <td>BR013</td>\n",
              "      <td>DISHWASHER PRODUCTS</td>\n",
              "      <td>S_4551211540772</td>\n",
              "      <td>TABLETS WITH SOLUBLE FILM</td>\n",
              "      <td>2020-02-29</td>\n",
              "      <td>0</td>\n",
              "      <td>0.0</td>\n",
              "      <td>0.0</td>\n",
              "      <td>0.0</td>\n",
              "      <td>0.0</td>\n",
              "      <td>2018-10-13_S_4551211540772</td>\n",
              "    </tr>\n",
              "    <tr>\n",
              "      <th>1</th>\n",
              "      <td>Germany</td>\n",
              "      <td>CarryFive Enterprises</td>\n",
              "      <td>BR014</td>\n",
              "      <td>AIRCARE - MAIN</td>\n",
              "      <td>S_1941017257445</td>\n",
              "      <td>AUTOMATIC SPRAY</td>\n",
              "      <td>2020-07-18</td>\n",
              "      <td>149</td>\n",
              "      <td>1461.7</td>\n",
              "      <td>149.0</td>\n",
              "      <td>1462.0</td>\n",
              "      <td>32.0</td>\n",
              "      <td>2019-03-02_S_1941017257445</td>\n",
              "    </tr>\n",
              "    <tr>\n",
              "      <th>2</th>\n",
              "      <td>Germany</td>\n",
              "      <td>CarryFive Enterprises</td>\n",
              "      <td>BR014</td>\n",
              "      <td>AIRCARE - MAIN</td>\n",
              "      <td>S_6465079411571</td>\n",
              "      <td>AUTOMATIC SPRAY</td>\n",
              "      <td>2020-06-06</td>\n",
              "      <td>50</td>\n",
              "      <td>198.9</td>\n",
              "      <td>50.0</td>\n",
              "      <td>198.9</td>\n",
              "      <td>9.0</td>\n",
              "      <td>2019-01-19_S_6465079411571</td>\n",
              "    </tr>\n",
              "    <tr>\n",
              "      <th>3</th>\n",
              "      <td>Germany</td>\n",
              "      <td>CarryFive Enterprises</td>\n",
              "      <td>BR014</td>\n",
              "      <td>AIRCARE - MAIN</td>\n",
              "      <td>S_4071113797455</td>\n",
              "      <td>STANDARD SPRAY</td>\n",
              "      <td>2019-08-17</td>\n",
              "      <td>0</td>\n",
              "      <td>0.0</td>\n",
              "      <td>0.0</td>\n",
              "      <td>0.0</td>\n",
              "      <td>0.0</td>\n",
              "      <td>2018-03-31_S_4071113797455</td>\n",
              "    </tr>\n",
              "    <tr>\n",
              "      <th>4</th>\n",
              "      <td>Germany</td>\n",
              "      <td>CarryFive Enterprises</td>\n",
              "      <td>BR014</td>\n",
              "      <td>AIRCARE - MAIN</td>\n",
              "      <td>S_4717130715785</td>\n",
              "      <td>PORTABLE ELECTRICAL</td>\n",
              "      <td>2019-12-21</td>\n",
              "      <td>0</td>\n",
              "      <td>0.0</td>\n",
              "      <td>0.0</td>\n",
              "      <td>0.0</td>\n",
              "      <td>0.0</td>\n",
              "      <td>2018-08-04_S_4717130715785</td>\n",
              "    </tr>\n",
              "  </tbody>\n",
              "</table>\n",
              "</div>\n",
              "      <button class=\"colab-df-convert\" onclick=\"convertToInteractive('df-f4a98d32-a7d4-4387-bc84-cd6cc3d780a4')\"\n",
              "              title=\"Convert this dataframe to an interactive table.\"\n",
              "              style=\"display:none;\">\n",
              "        \n",
              "  <svg xmlns=\"http://www.w3.org/2000/svg\" height=\"24px\"viewBox=\"0 0 24 24\"\n",
              "       width=\"24px\">\n",
              "    <path d=\"M0 0h24v24H0V0z\" fill=\"none\"/>\n",
              "    <path d=\"M18.56 5.44l.94 2.06.94-2.06 2.06-.94-2.06-.94-.94-2.06-.94 2.06-2.06.94zm-11 1L8.5 8.5l.94-2.06 2.06-.94-2.06-.94L8.5 2.5l-.94 2.06-2.06.94zm10 10l.94 2.06.94-2.06 2.06-.94-2.06-.94-.94-2.06-.94 2.06-2.06.94z\"/><path d=\"M17.41 7.96l-1.37-1.37c-.4-.4-.92-.59-1.43-.59-.52 0-1.04.2-1.43.59L10.3 9.45l-7.72 7.72c-.78.78-.78 2.05 0 2.83L4 21.41c.39.39.9.59 1.41.59.51 0 1.02-.2 1.41-.59l7.78-7.78 2.81-2.81c.8-.78.8-2.07 0-2.86zM5.41 20L4 18.59l7.72-7.72 1.47 1.35L5.41 20z\"/>\n",
              "  </svg>\n",
              "      </button>\n",
              "      \n",
              "  <style>\n",
              "    .colab-df-container {\n",
              "      display:flex;\n",
              "      flex-wrap:wrap;\n",
              "      gap: 12px;\n",
              "    }\n",
              "\n",
              "    .colab-df-convert {\n",
              "      background-color: #E8F0FE;\n",
              "      border: none;\n",
              "      border-radius: 50%;\n",
              "      cursor: pointer;\n",
              "      display: none;\n",
              "      fill: #1967D2;\n",
              "      height: 32px;\n",
              "      padding: 0 0 0 0;\n",
              "      width: 32px;\n",
              "    }\n",
              "\n",
              "    .colab-df-convert:hover {\n",
              "      background-color: #E2EBFA;\n",
              "      box-shadow: 0px 1px 2px rgba(60, 64, 67, 0.3), 0px 1px 3px 1px rgba(60, 64, 67, 0.15);\n",
              "      fill: #174EA6;\n",
              "    }\n",
              "\n",
              "    [theme=dark] .colab-df-convert {\n",
              "      background-color: #3B4455;\n",
              "      fill: #D2E3FC;\n",
              "    }\n",
              "\n",
              "    [theme=dark] .colab-df-convert:hover {\n",
              "      background-color: #434B5C;\n",
              "      box-shadow: 0px 1px 3px 1px rgba(0, 0, 0, 0.15);\n",
              "      filter: drop-shadow(0px 1px 2px rgba(0, 0, 0, 0.3));\n",
              "      fill: #FFFFFF;\n",
              "    }\n",
              "  </style>\n",
              "\n",
              "      <script>\n",
              "        const buttonEl =\n",
              "          document.querySelector('#df-f4a98d32-a7d4-4387-bc84-cd6cc3d780a4 button.colab-df-convert');\n",
              "        buttonEl.style.display =\n",
              "          google.colab.kernel.accessAllowed ? 'block' : 'none';\n",
              "\n",
              "        async function convertToInteractive(key) {\n",
              "          const element = document.querySelector('#df-f4a98d32-a7d4-4387-bc84-cd6cc3d780a4');\n",
              "          const dataTable =\n",
              "            await google.colab.kernel.invokeFunction('convertToInteractive',\n",
              "                                                     [key], {});\n",
              "          if (!dataTable) return;\n",
              "\n",
              "          const docLinkHtml = 'Like what you see? Visit the ' +\n",
              "            '<a target=\"_blank\" href=https://colab.research.google.com/notebooks/data_table.ipynb>data table notebook</a>'\n",
              "            + ' to learn more about interactive tables.';\n",
              "          element.innerHTML = '';\n",
              "          dataTable['output_type'] = 'display_data';\n",
              "          await google.colab.output.renderOutput(dataTable, element);\n",
              "          const docLink = document.createElement('div');\n",
              "          docLink.innerHTML = docLinkHtml;\n",
              "          element.appendChild(docLink);\n",
              "        }\n",
              "      </script>\n",
              "    </div>\n",
              "  </div>\n",
              "  "
            ],
            "text/plain": [
              "   COUNTRY                COMPANY  BRAND             CATEGORY  \\\n",
              "0  Germany  CarryFive Enterprises  BR013  DISHWASHER PRODUCTS   \n",
              "1  Germany  CarryFive Enterprises  BR014       AIRCARE - MAIN   \n",
              "2  Germany  CarryFive Enterprises  BR014       AIRCARE - MAIN   \n",
              "3  Germany  CarryFive Enterprises  BR014       AIRCARE - MAIN   \n",
              "4  Germany  CarryFive Enterprises  BR014       AIRCARE - MAIN   \n",
              "\n",
              "      PRODUCT_CODE                     FORMAT WEEK_END_DATE  UNITS  AMT_VALUE  \\\n",
              "0  S_4551211540772  TABLETS WITH SOLUBLE FILM    2020-02-29      0        0.0   \n",
              "1  S_1941017257445            AUTOMATIC SPRAY    2020-07-18    149     1461.7   \n",
              "2  S_6465079411571            AUTOMATIC SPRAY    2020-06-06     50      198.9   \n",
              "3  S_4071113797455             STANDARD SPRAY    2019-08-17      0        0.0   \n",
              "4  S_4717130715785        PORTABLE ELECTRICAL    2019-12-21      0        0.0   \n",
              "\n",
              "   BASE_UNITS  BASE_AMT_VALUE  ACV_DISTRIBUTION                          ID  \n",
              "0         0.0             0.0               0.0  2018-10-13_S_4551211540772  \n",
              "1       149.0          1462.0              32.0  2019-03-02_S_1941017257445  \n",
              "2        50.0           198.9               9.0  2019-01-19_S_6465079411571  \n",
              "3         0.0             0.0               0.0  2018-03-31_S_4071113797455  \n",
              "4         0.0             0.0               0.0  2018-08-04_S_4717130715785  "
            ]
          },
          "execution_count": 6,
          "metadata": {},
          "output_type": "execute_result"
        }
      ],
      "source": [
        "df_c5= df[df['COMPANY']=='CarryFive Enterprises']\n",
        "df_c5.head()"
      ]
    },
    {
      "cell_type": "code",
      "execution_count": null,
      "metadata": {
        "colab": {
          "base_uri": "https://localhost:8080/",
          "height": 337
        },
        "id": "qENNAWBFyGJL",
        "outputId": "5e4992d8-6605-453d-ea7a-90baea5c6772"
      },
      "outputs": [
        {
          "data": {
            "text/html": [
              "\n",
              "  <div id=\"df-fc1b2ede-710e-471f-a184-ebde540433e9\">\n",
              "    <div class=\"colab-df-container\">\n",
              "      <div>\n",
              "<style scoped>\n",
              "    .dataframe tbody tr th:only-of-type {\n",
              "        vertical-align: middle;\n",
              "    }\n",
              "\n",
              "    .dataframe tbody tr th {\n",
              "        vertical-align: top;\n",
              "    }\n",
              "\n",
              "    .dataframe thead th {\n",
              "        text-align: right;\n",
              "    }\n",
              "</style>\n",
              "<table border=\"1\" class=\"dataframe\">\n",
              "  <thead>\n",
              "    <tr style=\"text-align: right;\">\n",
              "      <th></th>\n",
              "      <th>BRAND</th>\n",
              "      <th>CATEGORY</th>\n",
              "      <th>PRODUCT_CODE</th>\n",
              "      <th>FORMAT</th>\n",
              "      <th>WEEK_END_DATE</th>\n",
              "      <th>UNITS</th>\n",
              "      <th>AMT_VALUE</th>\n",
              "      <th>BASE_UNITS</th>\n",
              "      <th>BASE_AMT_VALUE</th>\n",
              "      <th>ACV_DISTRIBUTION</th>\n",
              "      <th>PRICE_UNIT</th>\n",
              "    </tr>\n",
              "  </thead>\n",
              "  <tbody>\n",
              "    <tr>\n",
              "      <th>17229</th>\n",
              "      <td>BR070</td>\n",
              "      <td>AIRCARE - HOME</td>\n",
              "      <td>S_0000000370170</td>\n",
              "      <td>CAR AIRFRESHNERS</td>\n",
              "      <td>2019-08-17</td>\n",
              "      <td>0</td>\n",
              "      <td>0.0</td>\n",
              "      <td>0.0</td>\n",
              "      <td>0.0</td>\n",
              "      <td>0.0</td>\n",
              "      <td>0.0</td>\n",
              "    </tr>\n",
              "    <tr>\n",
              "      <th>306268</th>\n",
              "      <td>BR070</td>\n",
              "      <td>AIRCARE - HOME</td>\n",
              "      <td>S_0000000370170</td>\n",
              "      <td>CAR AIRFRESHNERS</td>\n",
              "      <td>2019-08-24</td>\n",
              "      <td>0</td>\n",
              "      <td>0.0</td>\n",
              "      <td>0.0</td>\n",
              "      <td>0.0</td>\n",
              "      <td>0.0</td>\n",
              "      <td>0.0</td>\n",
              "    </tr>\n",
              "    <tr>\n",
              "      <th>17228</th>\n",
              "      <td>BR070</td>\n",
              "      <td>AIRCARE - HOME</td>\n",
              "      <td>S_0000000370170</td>\n",
              "      <td>CAR AIRFRESHNERS</td>\n",
              "      <td>2019-08-31</td>\n",
              "      <td>0</td>\n",
              "      <td>0.0</td>\n",
              "      <td>0.0</td>\n",
              "      <td>0.0</td>\n",
              "      <td>0.0</td>\n",
              "      <td>0.0</td>\n",
              "    </tr>\n",
              "    <tr>\n",
              "      <th>175142</th>\n",
              "      <td>BR070</td>\n",
              "      <td>AIRCARE - HOME</td>\n",
              "      <td>S_0000000370170</td>\n",
              "      <td>CAR AIRFRESHNERS</td>\n",
              "      <td>2019-09-07</td>\n",
              "      <td>0</td>\n",
              "      <td>0.0</td>\n",
              "      <td>0.0</td>\n",
              "      <td>0.0</td>\n",
              "      <td>0.0</td>\n",
              "      <td>0.0</td>\n",
              "    </tr>\n",
              "    <tr>\n",
              "      <th>124859</th>\n",
              "      <td>BR070</td>\n",
              "      <td>AIRCARE - HOME</td>\n",
              "      <td>S_0000000370170</td>\n",
              "      <td>CAR AIRFRESHNERS</td>\n",
              "      <td>2019-09-14</td>\n",
              "      <td>0</td>\n",
              "      <td>0.0</td>\n",
              "      <td>0.0</td>\n",
              "      <td>0.0</td>\n",
              "      <td>0.0</td>\n",
              "      <td>0.0</td>\n",
              "    </tr>\n",
              "  </tbody>\n",
              "</table>\n",
              "</div>\n",
              "      <button class=\"colab-df-convert\" onclick=\"convertToInteractive('df-fc1b2ede-710e-471f-a184-ebde540433e9')\"\n",
              "              title=\"Convert this dataframe to an interactive table.\"\n",
              "              style=\"display:none;\">\n",
              "        \n",
              "  <svg xmlns=\"http://www.w3.org/2000/svg\" height=\"24px\"viewBox=\"0 0 24 24\"\n",
              "       width=\"24px\">\n",
              "    <path d=\"M0 0h24v24H0V0z\" fill=\"none\"/>\n",
              "    <path d=\"M18.56 5.44l.94 2.06.94-2.06 2.06-.94-2.06-.94-.94-2.06-.94 2.06-2.06.94zm-11 1L8.5 8.5l.94-2.06 2.06-.94-2.06-.94L8.5 2.5l-.94 2.06-2.06.94zm10 10l.94 2.06.94-2.06 2.06-.94-2.06-.94-.94-2.06-.94 2.06-2.06.94z\"/><path d=\"M17.41 7.96l-1.37-1.37c-.4-.4-.92-.59-1.43-.59-.52 0-1.04.2-1.43.59L10.3 9.45l-7.72 7.72c-.78.78-.78 2.05 0 2.83L4 21.41c.39.39.9.59 1.41.59.51 0 1.02-.2 1.41-.59l7.78-7.78 2.81-2.81c.8-.78.8-2.07 0-2.86zM5.41 20L4 18.59l7.72-7.72 1.47 1.35L5.41 20z\"/>\n",
              "  </svg>\n",
              "      </button>\n",
              "      \n",
              "  <style>\n",
              "    .colab-df-container {\n",
              "      display:flex;\n",
              "      flex-wrap:wrap;\n",
              "      gap: 12px;\n",
              "    }\n",
              "\n",
              "    .colab-df-convert {\n",
              "      background-color: #E8F0FE;\n",
              "      border: none;\n",
              "      border-radius: 50%;\n",
              "      cursor: pointer;\n",
              "      display: none;\n",
              "      fill: #1967D2;\n",
              "      height: 32px;\n",
              "      padding: 0 0 0 0;\n",
              "      width: 32px;\n",
              "    }\n",
              "\n",
              "    .colab-df-convert:hover {\n",
              "      background-color: #E2EBFA;\n",
              "      box-shadow: 0px 1px 2px rgba(60, 64, 67, 0.3), 0px 1px 3px 1px rgba(60, 64, 67, 0.15);\n",
              "      fill: #174EA6;\n",
              "    }\n",
              "\n",
              "    [theme=dark] .colab-df-convert {\n",
              "      background-color: #3B4455;\n",
              "      fill: #D2E3FC;\n",
              "    }\n",
              "\n",
              "    [theme=dark] .colab-df-convert:hover {\n",
              "      background-color: #434B5C;\n",
              "      box-shadow: 0px 1px 3px 1px rgba(0, 0, 0, 0.15);\n",
              "      filter: drop-shadow(0px 1px 2px rgba(0, 0, 0, 0.3));\n",
              "      fill: #FFFFFF;\n",
              "    }\n",
              "  </style>\n",
              "\n",
              "      <script>\n",
              "        const buttonEl =\n",
              "          document.querySelector('#df-fc1b2ede-710e-471f-a184-ebde540433e9 button.colab-df-convert');\n",
              "        buttonEl.style.display =\n",
              "          google.colab.kernel.accessAllowed ? 'block' : 'none';\n",
              "\n",
              "        async function convertToInteractive(key) {\n",
              "          const element = document.querySelector('#df-fc1b2ede-710e-471f-a184-ebde540433e9');\n",
              "          const dataTable =\n",
              "            await google.colab.kernel.invokeFunction('convertToInteractive',\n",
              "                                                     [key], {});\n",
              "          if (!dataTable) return;\n",
              "\n",
              "          const docLinkHtml = 'Like what you see? Visit the ' +\n",
              "            '<a target=\"_blank\" href=https://colab.research.google.com/notebooks/data_table.ipynb>data table notebook</a>'\n",
              "            + ' to learn more about interactive tables.';\n",
              "          element.innerHTML = '';\n",
              "          dataTable['output_type'] = 'display_data';\n",
              "          await google.colab.output.renderOutput(dataTable, element);\n",
              "          const docLink = document.createElement('div');\n",
              "          docLink.innerHTML = docLinkHtml;\n",
              "          element.appendChild(docLink);\n",
              "        }\n",
              "      </script>\n",
              "    </div>\n",
              "  </div>\n",
              "  "
            ],
            "text/plain": [
              "        BRAND        CATEGORY     PRODUCT_CODE            FORMAT  \\\n",
              "17229   BR070  AIRCARE - HOME  S_0000000370170  CAR AIRFRESHNERS   \n",
              "306268  BR070  AIRCARE - HOME  S_0000000370170  CAR AIRFRESHNERS   \n",
              "17228   BR070  AIRCARE - HOME  S_0000000370170  CAR AIRFRESHNERS   \n",
              "175142  BR070  AIRCARE - HOME  S_0000000370170  CAR AIRFRESHNERS   \n",
              "124859  BR070  AIRCARE - HOME  S_0000000370170  CAR AIRFRESHNERS   \n",
              "\n",
              "       WEEK_END_DATE  UNITS  AMT_VALUE  BASE_UNITS  BASE_AMT_VALUE  \\\n",
              "17229     2019-08-17      0        0.0         0.0             0.0   \n",
              "306268    2019-08-24      0        0.0         0.0             0.0   \n",
              "17228     2019-08-31      0        0.0         0.0             0.0   \n",
              "175142    2019-09-07      0        0.0         0.0             0.0   \n",
              "124859    2019-09-14      0        0.0         0.0             0.0   \n",
              "\n",
              "        ACV_DISTRIBUTION  PRICE_UNIT  \n",
              "17229                0.0         0.0  \n",
              "306268               0.0         0.0  \n",
              "17228                0.0         0.0  \n",
              "175142               0.0         0.0  \n",
              "124859               0.0         0.0  "
            ]
          },
          "execution_count": 144,
          "metadata": {},
          "output_type": "execute_result"
        }
      ],
      "source": [
        "# df_fin=df_c5.drop(['ID','COUNTRY','COMPANY'],axis=1)\n",
        "df_fin=df.drop(['ID','COUNTRY'],axis=1)\n",
        "df_fin=df_fin.sort_values(by=['PRODUCT_CODE','WEEK_END_DATE'])\n",
        "df_fin.head()"
      ]
    },
    {
      "cell_type": "code",
      "execution_count": null,
      "metadata": {
        "colab": {
          "base_uri": "https://localhost:8080/",
          "height": 369
        },
        "id": "qo4XGAyBybX3",
        "outputId": "3cb5484d-af30-4171-b83e-9821a97da5f9"
      },
      "outputs": [
        {
          "data": {
            "text/plain": [
              "<matplotlib.axes._subplots.AxesSubplot at 0x7fbf67de5b50>"
            ]
          },
          "execution_count": 145,
          "metadata": {},
          "output_type": "execute_result"
        },
        {
          "data": {
            "image/png": "[encoded data removed]",
            "text/plain": [
              "<Figure size 1152x360 with 2 Axes>"
            ]
          },
          "metadata": {},
          "output_type": "display_data"
        }
      ],
      "source": [
        "df_fin.groupby('WEEK_END_DATE').agg(\n",
        "    {'UNITS': 'sum', 'AMT_VALUE': 'sum'}\n",
        ").plot(\n",
        "    title='number of items sold and revenue over time', \n",
        "    secondary_y='AMT_VALUE',\n",
        "    figsize=(16, 5)\n",
        ")"
      ]
    },
    {
      "cell_type": "code",
      "execution_count": null,
      "metadata": {
        "colab": {
          "base_uri": "https://localhost:8080/",
          "height": 385
        },
        "id": "sZFaSEXSybbT",
        "outputId": "9138a00c-8d68-4114-e118-307c8509b865"
      },
      "outputs": [
        {
          "data": {
            "image/png": "[encoded data removed]",
            "text/plain": [
              "<Figure size 360x360 with 1 Axes>"
            ]
          },
          "metadata": {},
          "output_type": "display_data"
        }
      ],
      "source": [
        "import seaborn as sns\n",
        "sns.displot(df_fin.groupby('PRODUCT_CODE').PRICE_UNIT.std().dropna().clip(0, 15), kde=False)\n",
        "plt.title('Distribution of Std(price) over products: reasonable!');"
      ]
    },
    {
      "cell_type": "code",
      "execution_count": null,
      "metadata": {
        "id": "SbAb00Dm06Lw"
      },
      "outputs": [],
      "source": [
        "df_mdl = df_fin[\n",
        "    (df_fin.groupby('PRODUCT_CODE').PRICE_UNIT.transform('std') > 0)\n",
        "]\n",
        "del df_fin"
      ]
    },
    {
      "cell_type": "code",
      "execution_count": null,
      "metadata": {
        "colab": {
          "base_uri": "https://localhost:8080/"
        },
        "id": "9eUA271Z06NI",
        "outputId": "76e63f3e-7989-4888-8535-32574c046119"
      },
      "outputs": [
        {
          "data": {
            "text/plain": [
              "341775"
            ]
          },
          "execution_count": 148,
          "metadata": {},
          "output_type": "execute_result"
        }
      ],
      "source": [
        "len(df_mdl)"
      ]
    },
    {
      "cell_type": "code",
      "execution_count": null,
      "metadata": {
        "colab": {
          "base_uri": "https://localhost:8080/"
        },
        "id": "g08NDYQE06Qm",
        "outputId": "aaa1616d-47ed-4220-f4a3-4bcb9c8bedfe"
      },
      "outputs": [
        {
          "name": "stderr",
          "output_type": "stream",
          "text": [
            "/usr/local/lib/python3.7/dist-packages/pandas/core/arraylike.py:364: RuntimeWarning: divide by zero encountered in log\n",
            "  result = getattr(ufunc, method)(*inputs, **kwargs)\n",
            "/usr/local/lib/python3.7/dist-packages/pandas/core/arraylike.py:364: RuntimeWarning: invalid value encountered in log\n",
            "  result = getattr(ufunc, method)(*inputs, **kwargs)\n"
          ]
        }
      ],
      "source": [
        "df_mdl = df_mdl.assign(\n",
        "    LnP = np.log(df_mdl['PRICE_UNIT']),\n",
        "    LnQ = np.log(df_mdl['UNITS']),\n",
        ")"
      ]
    },
    {
      "cell_type": "code",
      "execution_count": null,
      "metadata": {
        "colab": {
          "base_uri": "https://localhost:8080/",
          "height": 112
        },
        "id": "zOjZo7u6yGMz",
        "outputId": "1b17aab9-da89-4535-9b58-ffbd721da238"
      },
      "outputs": [
        {
          "data": {
            "text/html": [
              "\n",
              "  <div id=\"df-d1d9c547-f356-4bde-b8d3-5dc380d45c9b\">\n",
              "    <div class=\"colab-df-container\">\n",
              "      <div>\n",
              "<style scoped>\n",
              "    .dataframe tbody tr th:only-of-type {\n",
              "        vertical-align: middle;\n",
              "    }\n",
              "\n",
              "    .dataframe tbody tr th {\n",
              "        vertical-align: top;\n",
              "    }\n",
              "\n",
              "    .dataframe thead th {\n",
              "        text-align: right;\n",
              "    }\n",
              "</style>\n",
              "<table border=\"1\" class=\"dataframe\">\n",
              "  <thead>\n",
              "    <tr style=\"text-align: right;\">\n",
              "      <th></th>\n",
              "      <th>LnP</th>\n",
              "      <th>LnQ</th>\n",
              "    </tr>\n",
              "  </thead>\n",
              "  <tbody>\n",
              "    <tr>\n",
              "      <th>LnP</th>\n",
              "      <td>0.612656</td>\n",
              "      <td>-0.107889</td>\n",
              "    </tr>\n",
              "    <tr>\n",
              "      <th>LnQ</th>\n",
              "      <td>-0.107889</td>\n",
              "      <td>9.629506</td>\n",
              "    </tr>\n",
              "  </tbody>\n",
              "</table>\n",
              "</div>\n",
              "      <button class=\"colab-df-convert\" onclick=\"convertToInteractive('df-d1d9c547-f356-4bde-b8d3-5dc380d45c9b')\"\n",
              "              title=\"Convert this dataframe to an interactive table.\"\n",
              "              style=\"display:none;\">\n",
              "        \n",
              "  <svg xmlns=\"http://www.w3.org/2000/svg\" height=\"24px\"viewBox=\"0 0 24 24\"\n",
              "       width=\"24px\">\n",
              "    <path d=\"M0 0h24v24H0V0z\" fill=\"none\"/>\n",
              "    <path d=\"M18.56 5.44l.94 2.06.94-2.06 2.06-.94-2.06-.94-.94-2.06-.94 2.06-2.06.94zm-11 1L8.5 8.5l.94-2.06 2.06-.94-2.06-.94L8.5 2.5l-.94 2.06-2.06.94zm10 10l.94 2.06.94-2.06 2.06-.94-2.06-.94-.94-2.06-.94 2.06-2.06.94z\"/><path d=\"M17.41 7.96l-1.37-1.37c-.4-.4-.92-.59-1.43-.59-.52 0-1.04.2-1.43.59L10.3 9.45l-7.72 7.72c-.78.78-.78 2.05 0 2.83L4 21.41c.39.39.9.59 1.41.59.51 0 1.02-.2 1.41-.59l7.78-7.78 2.81-2.81c.8-.78.8-2.07 0-2.86zM5.41 20L4 18.59l7.72-7.72 1.47 1.35L5.41 20z\"/>\n",
              "  </svg>\n",
              "      </button>\n",
              "      \n",
              "  <style>\n",
              "    .colab-df-container {\n",
              "      display:flex;\n",
              "      flex-wrap:wrap;\n",
              "      gap: 12px;\n",
              "    }\n",
              "\n",
              "    .colab-df-convert {\n",
              "      background-color: #E8F0FE;\n",
              "      border: none;\n",
              "      border-radius: 50%;\n",
              "      cursor: pointer;\n",
              "      display: none;\n",
              "      fill: #1967D2;\n",
              "      height: 32px;\n",
              "      padding: 0 0 0 0;\n",
              "      width: 32px;\n",
              "    }\n",
              "\n",
              "    .colab-df-convert:hover {\n",
              "      background-color: #E2EBFA;\n",
              "      box-shadow: 0px 1px 2px rgba(60, 64, 67, 0.3), 0px 1px 3px 1px rgba(60, 64, 67, 0.15);\n",
              "      fill: #174EA6;\n",
              "    }\n",
              "\n",
              "    [theme=dark] .colab-df-convert {\n",
              "      background-color: #3B4455;\n",
              "      fill: #D2E3FC;\n",
              "    }\n",
              "\n",
              "    [theme=dark] .colab-df-convert:hover {\n",
              "      background-color: #434B5C;\n",
              "      box-shadow: 0px 1px 3px 1px rgba(0, 0, 0, 0.15);\n",
              "      filter: drop-shadow(0px 1px 2px rgba(0, 0, 0, 0.3));\n",
              "      fill: #FFFFFF;\n",
              "    }\n",
              "  </style>\n",
              "\n",
              "      <script>\n",
              "        const buttonEl =\n",
              "          document.querySelector('#df-d1d9c547-f356-4bde-b8d3-5dc380d45c9b button.colab-df-convert');\n",
              "        buttonEl.style.display =\n",
              "          google.colab.kernel.accessAllowed ? 'block' : 'none';\n",
              "\n",
              "        async function convertToInteractive(key) {\n",
              "          const element = document.querySelector('#df-d1d9c547-f356-4bde-b8d3-5dc380d45c9b');\n",
              "          const dataTable =\n",
              "            await google.colab.kernel.invokeFunction('convertToInteractive',\n",
              "                                                     [key], {});\n",
              "          if (!dataTable) return;\n",
              "\n",
              "          const docLinkHtml = 'Like what you see? Visit the ' +\n",
              "            '<a target=\"_blank\" href=https://colab.research.google.com/notebooks/data_table.ipynb>data table notebook</a>'\n",
              "            + ' to learn more about interactive tables.';\n",
              "          element.innerHTML = '';\n",
              "          dataTable['output_type'] = 'display_data';\n",
              "          await google.colab.output.renderOutput(dataTable, element);\n",
              "          const docLink = document.createElement('div');\n",
              "          docLink.innerHTML = docLinkHtml;\n",
              "          element.appendChild(docLink);\n",
              "        }\n",
              "      </script>\n",
              "    </div>\n",
              "  </div>\n",
              "  "
            ],
            "text/plain": [
              "          LnP       LnQ\n",
              "LnP  0.612656 -0.107889\n",
              "LnQ -0.107889  9.629506"
            ]
          },
          "execution_count": 150,
          "metadata": {},
          "output_type": "execute_result"
        }
      ],
      "source": [
        "df_mdl[['LnP', 'LnQ']].cov()\n"
      ]
    },
    {
      "cell_type": "code",
      "execution_count": null,
      "metadata": {
        "colab": {
          "base_uri": "https://localhost:8080/"
        },
        "id": "N0HM_MFU2g3X",
        "outputId": "5705af3e-776a-4542-acdd-953f420454c0"
      },
      "outputs": [
        {
          "data": {
            "text/plain": [
              "-0.17893506212663202"
            ]
          },
          "execution_count": 151,
          "metadata": {},
          "output_type": "execute_result"
        }
      ],
      "source": [
        "e=-0.079435/0.443932\n",
        "e"
      ]
    },
    {
      "cell_type": "code",
      "execution_count": null,
      "metadata": {
        "colab": {
          "base_uri": "https://localhost:8080/",
          "height": 357
        },
        "id": "UckT7DXd5G8T",
        "outputId": "e72321dc-4277-4772-e71e-fd4a56161f4b"
      },
      "outputs": [
        {
          "data": {
            "text/html": [
              "\n",
              "  <div id=\"df-fc9db5ba-b4b3-4997-9ce0-cea8d3b593b3\">\n",
              "    <div class=\"colab-df-container\">\n",
              "      <div>\n",
              "<style scoped>\n",
              "    .dataframe tbody tr th:only-of-type {\n",
              "        vertical-align: middle;\n",
              "    }\n",
              "\n",
              "    .dataframe tbody tr th {\n",
              "        vertical-align: top;\n",
              "    }\n",
              "\n",
              "    .dataframe thead th {\n",
              "        text-align: right;\n",
              "    }\n",
              "</style>\n",
              "<table border=\"1\" class=\"dataframe\">\n",
              "  <thead>\n",
              "    <tr style=\"text-align: right;\">\n",
              "      <th></th>\n",
              "      <th>BRAND</th>\n",
              "      <th>CATEGORY</th>\n",
              "      <th>PRODUCT_CODE</th>\n",
              "      <th>FORMAT</th>\n",
              "      <th>WEEK_END_DATE</th>\n",
              "      <th>UNITS</th>\n",
              "      <th>AMT_VALUE</th>\n",
              "      <th>BASE_UNITS</th>\n",
              "      <th>BASE_AMT_VALUE</th>\n",
              "      <th>ACV_DISTRIBUTION</th>\n",
              "      <th>PRICE_UNIT</th>\n",
              "      <th>LnP</th>\n",
              "      <th>LnQ</th>\n",
              "    </tr>\n",
              "  </thead>\n",
              "  <tbody>\n",
              "    <tr>\n",
              "      <th>17229</th>\n",
              "      <td>BR070</td>\n",
              "      <td>AIRCARE - HOME</td>\n",
              "      <td>S_0000000370170</td>\n",
              "      <td>CAR AIRFRESHNERS</td>\n",
              "      <td>2019-08-17</td>\n",
              "      <td>0</td>\n",
              "      <td>0.0</td>\n",
              "      <td>0.0</td>\n",
              "      <td>0.0</td>\n",
              "      <td>0.0</td>\n",
              "      <td>0.0</td>\n",
              "      <td>-inf</td>\n",
              "      <td>-inf</td>\n",
              "    </tr>\n",
              "    <tr>\n",
              "      <th>306268</th>\n",
              "      <td>BR070</td>\n",
              "      <td>AIRCARE - HOME</td>\n",
              "      <td>S_0000000370170</td>\n",
              "      <td>CAR AIRFRESHNERS</td>\n",
              "      <td>2019-08-24</td>\n",
              "      <td>0</td>\n",
              "      <td>0.0</td>\n",
              "      <td>0.0</td>\n",
              "      <td>0.0</td>\n",
              "      <td>0.0</td>\n",
              "      <td>0.0</td>\n",
              "      <td>-inf</td>\n",
              "      <td>-inf</td>\n",
              "    </tr>\n",
              "    <tr>\n",
              "      <th>17228</th>\n",
              "      <td>BR070</td>\n",
              "      <td>AIRCARE - HOME</td>\n",
              "      <td>S_0000000370170</td>\n",
              "      <td>CAR AIRFRESHNERS</td>\n",
              "      <td>2019-08-31</td>\n",
              "      <td>0</td>\n",
              "      <td>0.0</td>\n",
              "      <td>0.0</td>\n",
              "      <td>0.0</td>\n",
              "      <td>0.0</td>\n",
              "      <td>0.0</td>\n",
              "      <td>-inf</td>\n",
              "      <td>-inf</td>\n",
              "    </tr>\n",
              "    <tr>\n",
              "      <th>175142</th>\n",
              "      <td>BR070</td>\n",
              "      <td>AIRCARE - HOME</td>\n",
              "      <td>S_0000000370170</td>\n",
              "      <td>CAR AIRFRESHNERS</td>\n",
              "      <td>2019-09-07</td>\n",
              "      <td>0</td>\n",
              "      <td>0.0</td>\n",
              "      <td>0.0</td>\n",
              "      <td>0.0</td>\n",
              "      <td>0.0</td>\n",
              "      <td>0.0</td>\n",
              "      <td>-inf</td>\n",
              "      <td>-inf</td>\n",
              "    </tr>\n",
              "    <tr>\n",
              "      <th>124859</th>\n",
              "      <td>BR070</td>\n",
              "      <td>AIRCARE - HOME</td>\n",
              "      <td>S_0000000370170</td>\n",
              "      <td>CAR AIRFRESHNERS</td>\n",
              "      <td>2019-09-14</td>\n",
              "      <td>0</td>\n",
              "      <td>0.0</td>\n",
              "      <td>0.0</td>\n",
              "      <td>0.0</td>\n",
              "      <td>0.0</td>\n",
              "      <td>0.0</td>\n",
              "      <td>-inf</td>\n",
              "      <td>-inf</td>\n",
              "    </tr>\n",
              "  </tbody>\n",
              "</table>\n",
              "</div>\n",
              "      <button class=\"colab-df-convert\" onclick=\"convertToInteractive('df-fc9db5ba-b4b3-4997-9ce0-cea8d3b593b3')\"\n",
              "              title=\"Convert this dataframe to an interactive table.\"\n",
              "              style=\"display:none;\">\n",
              "        \n",
              "  <svg xmlns=\"http://www.w3.org/2000/svg\" height=\"24px\"viewBox=\"0 0 24 24\"\n",
              "       width=\"24px\">\n",
              "    <path d=\"M0 0h24v24H0V0z\" fill=\"none\"/>\n",
              "    <path d=\"M18.56 5.44l.94 2.06.94-2.06 2.06-.94-2.06-.94-.94-2.06-.94 2.06-2.06.94zm-11 1L8.5 8.5l.94-2.06 2.06-.94-2.06-.94L8.5 2.5l-.94 2.06-2.06.94zm10 10l.94 2.06.94-2.06 2.06-.94-2.06-.94-.94-2.06-.94 2.06-2.06.94z\"/><path d=\"M17.41 7.96l-1.37-1.37c-.4-.4-.92-.59-1.43-.59-.52 0-1.04.2-1.43.59L10.3 9.45l-7.72 7.72c-.78.78-.78 2.05 0 2.83L4 21.41c.39.39.9.59 1.41.59.51 0 1.02-.2 1.41-.59l7.78-7.78 2.81-2.81c.8-.78.8-2.07 0-2.86zM5.41 20L4 18.59l7.72-7.72 1.47 1.35L5.41 20z\"/>\n",
              "  </svg>\n",
              "      </button>\n",
              "      \n",
              "  <style>\n",
              "    .colab-df-container {\n",
              "      display:flex;\n",
              "      flex-wrap:wrap;\n",
              "      gap: 12px;\n",
              "    }\n",
              "\n",
              "    .colab-df-convert {\n",
              "      background-color: #E8F0FE;\n",
              "      border: none;\n",
              "      border-radius: 50%;\n",
              "      cursor: pointer;\n",
              "      display: none;\n",
              "      fill: #1967D2;\n",
              "      height: 32px;\n",
              "      padding: 0 0 0 0;\n",
              "      width: 32px;\n",
              "    }\n",
              "\n",
              "    .colab-df-convert:hover {\n",
              "      background-color: #E2EBFA;\n",
              "      box-shadow: 0px 1px 2px rgba(60, 64, 67, 0.3), 0px 1px 3px 1px rgba(60, 64, 67, 0.15);\n",
              "      fill: #174EA6;\n",
              "    }\n",
              "\n",
              "    [theme=dark] .colab-df-convert {\n",
              "      background-color: #3B4455;\n",
              "      fill: #D2E3FC;\n",
              "    }\n",
              "\n",
              "    [theme=dark] .colab-df-convert:hover {\n",
              "      background-color: #434B5C;\n",
              "      box-shadow: 0px 1px 3px 1px rgba(0, 0, 0, 0.15);\n",
              "      filter: drop-shadow(0px 1px 2px rgba(0, 0, 0, 0.3));\n",
              "      fill: #FFFFFF;\n",
              "    }\n",
              "  </style>\n",
              "\n",
              "      <script>\n",
              "        const buttonEl =\n",
              "          document.querySelector('#df-fc9db5ba-b4b3-4997-9ce0-cea8d3b593b3 button.colab-df-convert');\n",
              "        buttonEl.style.display =\n",
              "          google.colab.kernel.accessAllowed ? 'block' : 'none';\n",
              "\n",
              "        async function convertToInteractive(key) {\n",
              "          const element = document.querySelector('#df-fc9db5ba-b4b3-4997-9ce0-cea8d3b593b3');\n",
              "          const dataTable =\n",
              "            await google.colab.kernel.invokeFunction('convertToInteractive',\n",
              "                                                     [key], {});\n",
              "          if (!dataTable) return;\n",
              "\n",
              "          const docLinkHtml = 'Like what you see? Visit the ' +\n",
              "            '<a target=\"_blank\" href=https://colab.research.google.com/notebooks/data_table.ipynb>data table notebook</a>'\n",
              "            + ' to learn more about interactive tables.';\n",
              "          element.innerHTML = '';\n",
              "          dataTable['output_type'] = 'display_data';\n",
              "          await google.colab.output.renderOutput(dataTable, element);\n",
              "          const docLink = document.createElement('div');\n",
              "          docLink.innerHTML = docLinkHtml;\n",
              "          element.appendChild(docLink);\n",
              "        }\n",
              "      </script>\n",
              "    </div>\n",
              "  </div>\n",
              "  "
            ],
            "text/plain": [
              "        BRAND        CATEGORY     PRODUCT_CODE            FORMAT  \\\n",
              "17229   BR070  AIRCARE - HOME  S_0000000370170  CAR AIRFRESHNERS   \n",
              "306268  BR070  AIRCARE - HOME  S_0000000370170  CAR AIRFRESHNERS   \n",
              "17228   BR070  AIRCARE - HOME  S_0000000370170  CAR AIRFRESHNERS   \n",
              "175142  BR070  AIRCARE - HOME  S_0000000370170  CAR AIRFRESHNERS   \n",
              "124859  BR070  AIRCARE - HOME  S_0000000370170  CAR AIRFRESHNERS   \n",
              "\n",
              "       WEEK_END_DATE  UNITS  AMT_VALUE  BASE_UNITS  BASE_AMT_VALUE  \\\n",
              "17229     2019-08-17      0        0.0         0.0             0.0   \n",
              "306268    2019-08-24      0        0.0         0.0             0.0   \n",
              "17228     2019-08-31      0        0.0         0.0             0.0   \n",
              "175142    2019-09-07      0        0.0         0.0             0.0   \n",
              "124859    2019-09-14      0        0.0         0.0             0.0   \n",
              "\n",
              "        ACV_DISTRIBUTION  PRICE_UNIT  LnP  LnQ  \n",
              "17229                0.0         0.0 -inf -inf  \n",
              "306268               0.0         0.0 -inf -inf  \n",
              "17228                0.0         0.0 -inf -inf  \n",
              "175142               0.0         0.0 -inf -inf  \n",
              "124859               0.0         0.0 -inf -inf  "
            ]
          },
          "execution_count": 152,
          "metadata": {},
          "output_type": "execute_result"
        }
      ],
      "source": [
        "df_mdl.head()"
      ]
    },
    {
      "cell_type": "code",
      "execution_count": null,
      "metadata": {
        "id": "rZyLopvn5hrt"
      },
      "outputs": [],
      "source": [
        "df_mdl=df_mdl[df_mdl['LnP']!=-np.inf]"
      ]
    },
    {
      "cell_type": "code",
      "execution_count": null,
      "metadata": {
        "id": "7kwb5fwM53A3"
      },
      "outputs": [],
      "source": [
        "import statsmodels.api as sm # get full stats on regressions\n",
        "\n",
        "def binned_ols(df, x, y, n_bins, plot=True, plot_title='', plot_ax=None, **plt_kwargs):\n",
        "    # A visual form of de-noising: bin explanatory variable first, \n",
        "    # then take means-per-bin of variable to be explaioned, then\n",
        "    # regress/plot \n",
        "    x_bin = x + '_bin'\n",
        "    df[x_bin] = pd.qcut(df[x].rank(method='first'), n_bins)\n",
        "\n",
        "    tmp = df.groupby(x_bin).agg({\n",
        "        x: 'mean',\n",
        "        y: 'mean'\n",
        "    })\n",
        "\n",
        "    if plot:\n",
        "        tmp.plot(\n",
        "            x=x, \n",
        "            y=y,\n",
        "            figsize=(18, 6),\n",
        "            title=plot_title,\n",
        "            ax=plot_ax,\n",
        "            **plt_kwargs\n",
        "        )\n",
        "    \n",
        "    del df[x_bin]\n",
        "    mdl = sm.OLS(tmp[y], sm.add_constant(tmp[x]))\n",
        "    res = mdl.fit()\n",
        "    return res"
      ]
    },
    {
      "cell_type": "code",
      "execution_count": null,
      "metadata": {
        "colab": {
          "base_uri": "https://localhost:8080/",
          "height": 911
        },
        "id": "jvuJ-It353DD",
        "outputId": "305a2abd-728d-42d3-ddf7-fd2e434d485d"
      },
      "outputs": [
        {
          "name": "stdout",
          "output_type": "stream",
          "text": [
            "\"Naive\" elasticity estimated to be -0.21701423535952308\n"
          ]
        },
        {
          "name": "stderr",
          "output_type": "stream",
          "text": [
            "/usr/local/lib/python3.7/dist-packages/statsmodels/tsa/tsatools.py:117: FutureWarning: In a future version of pandas all arguments of concat except for the argument 'objs' will be keyword-only\n",
            "  x = pd.concat(x[::order], 1)\n"
          ]
        },
        {
          "data": {
            "text/html": [
              "<table class=\"simpletable\">\n",
              "<caption>OLS Regression Results</caption>\n",
              "<tr>\n",
              "  <th>Dep. Variable:</th>           <td>LnQ</td>       <th>  R-squared:         </th> <td>   0.032</td>\n",
              "</tr>\n",
              "<tr>\n",
              "  <th>Model:</th>                   <td>OLS</td>       <th>  Adj. R-squared:    </th> <td>  -0.022</td>\n",
              "</tr>\n",
              "<tr>\n",
              "  <th>Method:</th>             <td>Least Squares</td>  <th>  F-statistic:       </th> <td>  0.5884</td>\n",
              "</tr>\n",
              "<tr>\n",
              "  <th>Date:</th>             <td>Thu, 05 May 2022</td> <th>  Prob (F-statistic):</th>  <td> 0.453</td> \n",
              "</tr>\n",
              "<tr>\n",
              "  <th>Time:</th>                 <td>12:27:34</td>     <th>  Log-Likelihood:    </th> <td> -26.794</td>\n",
              "</tr>\n",
              "<tr>\n",
              "  <th>No. Observations:</th>      <td>    20</td>      <th>  AIC:               </th> <td>   57.59</td>\n",
              "</tr>\n",
              "<tr>\n",
              "  <th>Df Residuals:</th>          <td>    18</td>      <th>  BIC:               </th> <td>   59.58</td>\n",
              "</tr>\n",
              "<tr>\n",
              "  <th>Df Model:</th>              <td>     1</td>      <th>                     </th>     <td> </td>   \n",
              "</tr>\n",
              "<tr>\n",
              "  <th>Covariance Type:</th>      <td>nonrobust</td>    <th>                     </th>     <td> </td>   \n",
              "</tr>\n",
              "</table>\n",
              "<table class=\"simpletable\">\n",
              "<tr>\n",
              "    <td></td>       <th>coef</th>     <th>std err</th>      <th>t</th>      <th>P>|t|</th>  <th>[0.025</th>    <th>0.975]</th>  \n",
              "</tr>\n",
              "<tr>\n",
              "  <th>const</th> <td>    5.8037</td> <td>    0.359</td> <td>   16.146</td> <td> 0.000</td> <td>    5.049</td> <td>    6.559</td>\n",
              "</tr>\n",
              "<tr>\n",
              "  <th>LnP</th>   <td>   -0.2170</td> <td>    0.283</td> <td>   -0.767</td> <td> 0.453</td> <td>   -0.811</td> <td>    0.377</td>\n",
              "</tr>\n",
              "</table>\n",
              "<table class=\"simpletable\">\n",
              "<tr>\n",
              "  <th>Omnibus:</th>       <td>10.134</td> <th>  Durbin-Watson:     </th> <td>   1.629</td>\n",
              "</tr>\n",
              "<tr>\n",
              "  <th>Prob(Omnibus):</th> <td> 0.006</td> <th>  Jarque-Bera (JB):  </th> <td>   8.380</td>\n",
              "</tr>\n",
              "<tr>\n",
              "  <th>Skew:</th>          <td>-1.031</td> <th>  Prob(JB):          </th> <td>  0.0151</td>\n",
              "</tr>\n",
              "<tr>\n",
              "  <th>Kurtosis:</th>      <td> 5.409</td> <th>  Cond. No.          </th> <td>    3.07</td>\n",
              "</tr>\n",
              "</table><br/><br/>Warnings:<br/>[1] Standard Errors assume that the covariance matrix of the errors is correctly specified."
            ],
            "text/plain": [
              "<class 'statsmodels.iolib.summary.Summary'>\n",
              "\"\"\"\n",
              "                            OLS Regression Results                            \n",
              "==============================================================================\n",
              "Dep. Variable:                    LnQ   R-squared:                       0.032\n",
              "Model:                            OLS   Adj. R-squared:                 -0.022\n",
              "Method:                 Least Squares   F-statistic:                    0.5884\n",
              "Date:                Thu, 05 May 2022   Prob (F-statistic):              0.453\n",
              "Time:                        12:27:34   Log-Likelihood:                -26.794\n",
              "No. Observations:                  20   AIC:                             57.59\n",
              "Df Residuals:                      18   BIC:                             59.58\n",
              "Df Model:                           1                                         \n",
              "Covariance Type:            nonrobust                                         \n",
              "==============================================================================\n",
              "                 coef    std err          t      P>|t|      [0.025      0.975]\n",
              "------------------------------------------------------------------------------\n",
              "const          5.8037      0.359     16.146      0.000       5.049       6.559\n",
              "LnP           -0.2170      0.283     -0.767      0.453      -0.811       0.377\n",
              "==============================================================================\n",
              "Omnibus:                       10.134   Durbin-Watson:                   1.629\n",
              "Prob(Omnibus):                  0.006   Jarque-Bera (JB):                8.380\n",
              "Skew:                          -1.031   Prob(JB):                       0.0151\n",
              "Kurtosis:                       5.409   Cond. No.                         3.07\n",
              "==============================================================================\n",
              "\n",
              "Warnings:\n",
              "[1] Standard Errors assume that the covariance matrix of the errors is correctly specified.\n",
              "\"\"\""
            ]
          },
          "execution_count": 155,
          "metadata": {},
          "output_type": "execute_result"
        },
        {
          "data": {
            "image/png": "[encoded data removed]",
            "text/plain": [
              "<Figure size 1296x432 with 1 Axes>"
            ]
          },
          "metadata": {},
          "output_type": "display_data"
        }
      ],
      "source": [
        "ols_fit = binned_ols(\n",
        "    df_mdl,\n",
        "    x='LnP',\n",
        "    y='LnQ',\n",
        "    n_bins=20,\n",
        "    plot_title='Observe messy relationship between LnP and LnQ'\n",
        ")\n",
        "\n",
        "print(f'\"Naive\" elasticity estimated to be {ols_fit.params[\"LnP\"]}')\n",
        "ols_fit.summary()"
      ]
    },
    {
      "cell_type": "code",
      "execution_count": null,
      "metadata": {
        "id": "wcR6uuDx53G0"
      },
      "outputs": [],
      "source": [
        "import sklearn.preprocessing\n",
        "from sklearn import linear_model\n",
        "from sklearn.pipeline import Pipeline\n",
        "from sklearn.compose import ColumnTransformer\n",
        "from sklearn.preprocessing import OneHotEncoder, StandardScaler, RobustScaler\n",
        "from sklearn.feature_extraction.text import CountVectorizer"
      ]
    },
    {
      "cell_type": "code",
      "execution_count": null,
      "metadata": {
        "colab": {
          "base_uri": "https://localhost:8080/"
        },
        "id": "O3zIjy_m6lIY",
        "outputId": "28a0205d-5110-4902-b743-8d692388fa1f"
      },
      "outputs": [
        {
          "data": {
            "text/plain": [
              "135253"
            ]
          },
          "execution_count": 157,
          "metadata": {},
          "output_type": "execute_result"
        }
      ],
      "source": [
        "df_mdl=df_mdl[df_mdl['UNITS']>0]\n",
        "df_mdl1=df_mdl[df_mdl['UNITS']<13000]\n",
        "df_mdl1=df_mdl1[df_mdl1['PRICE_UNIT']>0]\n",
        "len(df_mdl1)"
      ]
    },
    {
      "cell_type": "code",
      "execution_count": null,
      "metadata": {
        "id": "2fWDCrZ62SdW"
      },
      "outputs": [],
      "source": [
        "feature_generator_basic = ColumnTransformer(\n",
        "    [\n",
        "        ('PRODUCT_CODE', OneHotEncoder(), ['PRODUCT_CODE']),\n",
        "        ('WEEK_END_DATE', OneHotEncoder(), ['WEEK_END_DATE']),\n",
        "        ('FORMAT', OneHotEncoder(), ['FORMAT']),\n",
        "        ('CATEGORY', OneHotEncoder(), ['CATEGORY']),   \n",
        "        ('BRAND', OneHotEncoder(), ['BRAND']),\n",
        "        ('LnP', 'passthrough', ['LnP']),\n",
        "    ], remainder='drop'\n",
        ")\n",
        "\n",
        "mdl_basic = Pipeline([\n",
        "    ('feat_proc', feature_generator_basic),\n",
        "    ('reg', linear_model.PoissonRegressor(\n",
        "        alpha=1e-6,  # l2 penalty strength; manually selected value for minimum interference on LnP-coef (elasticity)\n",
        "        fit_intercept=False, # no need, since we have OneHot encodings without drop\n",
        "        max_iter=300_000, \n",
        "    )),\n",
        "], verbose=True)\n",
        "\n",
        "mdl_basic_ols = Pipeline([\n",
        "    ('feat_proc', feature_generator_basic),\n",
        "    ('reg', linear_model.Ridge(\n",
        "        alpha=1e-20,  # l2 penalty strength, \"very small\"\n",
        "        fit_intercept=False, \n",
        "        max_iter=100_000, \n",
        "    )),\n",
        "], verbose=True)"
      ]
    },
    {
      "cell_type": "code",
      "execution_count": null,
      "metadata": {
        "colab": {
          "background_save": true,
          "base_uri": "https://localhost:8080/"
        },
        "id": "iMjzbSgw2Sgy",
        "outputId": "56082597-f7d7-4431-e6fa-8bb2365a225a"
      },
      "outputs": [
        {
          "name": "stdout",
          "output_type": "stream",
          "text": [
            "[Pipeline] ......... (step 1 of 2) Processing feat_proc, total=   0.3s\n",
            "[Pipeline] ............... (step 2 of 2) Processing reg, total= 4.2min\n"
          ]
        },
        {
          "name": "stderr",
          "output_type": "stream",
          "text": [
            "/usr/local/lib/python3.7/dist-packages/sklearn/linear_model/_glm/glm.py:323: ConvergenceWarning: lbfgs failed to converge (status=1):\n",
            "STOP: TOTAL NO. of f AND g EVALUATIONS EXCEEDS LIMIT.\n",
            "\n",
            "Increase the number of iterations (max_iter) or scale the data as shown in:\n",
            "    https://scikit-learn.org/stable/modules/preprocessing.html\n",
            "  self.n_iter_ = _check_optimize_result(\"lbfgs\", opt_res)\n"
          ]
        },
        {
          "data": {
            "text/plain": [
              "Pipeline(steps=[('feat_proc',\n",
              "                 ColumnTransformer(transformers=[('PRODUCT_CODE',\n",
              "                                                  OneHotEncoder(),\n",
              "                                                  ['PRODUCT_CODE']),\n",
              "                                                 ('WEEK_END_DATE',\n",
              "                                                  OneHotEncoder(),\n",
              "                                                  ['WEEK_END_DATE']),\n",
              "                                                 ('FORMAT', OneHotEncoder(),\n",
              "                                                  ['FORMAT']),\n",
              "                                                 ('CATEGORY', OneHotEncoder(),\n",
              "                                                  ['CATEGORY']),\n",
              "                                                 ('BRAND', OneHotEncoder(),\n",
              "                                                  ['BRAND']),\n",
              "                                                 ('LnP', 'passthrough',\n",
              "                                                  ['LnP'])])),\n",
              "                ('reg',\n",
              "                 PoissonRegressor(alpha=1e-06, fit_intercept=False,\n",
              "                                  max_iter=300000))],\n",
              "         verbose=True)"
            ]
          },
          "execution_count": null,
          "metadata": {},
          "output_type": "execute_result"
        }
      ],
      "source": [
        "mdl_basic.fit(\n",
        "    df_mdl1[['LnP', 'PRODUCT_CODE', 'WEEK_END_DATE', 'BRAND','CATEGORY','FORMAT']], \n",
        "    df_mdl1['UNITS'] \n",
        "    # Poisson regression has log-link, so LnQ is implicit in loss function\n",
        ")"
      ]
    },
    {
      "cell_type": "code",
      "execution_count": null,
      "metadata": {
        "colab": {
          "background_save": true
        },
        "id": "IRIOhoDx7ZxP",
        "outputId": "e6dc2b64-c5ba-4d3c-8ea2-e2b71233d7bf"
      },
      "outputs": [
        {
          "name": "stdout",
          "output_type": "stream",
          "text": [
            "[Pipeline] ......... (step 1 of 2) Processing feat_proc, total=   0.2s\n",
            "[Pipeline] ............... (step 2 of 2) Processing reg, total=   0.2s\n"
          ]
        },
        {
          "data": {
            "text/plain": [
              "Pipeline(steps=[('feat_proc',\n",
              "                 ColumnTransformer(transformers=[('PRODUCT_CODE',\n",
              "                                                  OneHotEncoder(),\n",
              "                                                  ['PRODUCT_CODE']),\n",
              "                                                 ('WEEK_END_DATE',\n",
              "                                                  OneHotEncoder(),\n",
              "                                                  ['WEEK_END_DATE']),\n",
              "                                                 ('FORMAT', OneHotEncoder(),\n",
              "                                                  ['FORMAT']),\n",
              "                                                 ('CATEGORY', OneHotEncoder(),\n",
              "                                                  ['CATEGORY']),\n",
              "                                                 ('BRAND', OneHotEncoder(),\n",
              "                                                  ['BRAND']),\n",
              "                                                 ('LnP', 'passthrough',\n",
              "                                                  ['LnP'])])),\n",
              "                ('reg',\n",
              "                 Ridge(alpha=1e-20, fit_intercept=False, max_iter=100000))],\n",
              "         verbose=True)"
            ]
          },
          "execution_count": null,
          "metadata": {},
          "output_type": "execute_result"
        }
      ],
      "source": [
        "mdl_basic_ols.fit(\n",
        "    df_mdl1[['LnP', 'PRODUCT_CODE', 'WEEK_END_DATE', 'BRAND','CATEGORY','FORMAT']], \n",
        "    df_mdl1['LnQ'] # log-normal\n",
        ")"
      ]
    },
    {
      "cell_type": "code",
      "execution_count": null,
      "metadata": {
        "colab": {
          "background_save": true
        },
        "id": "MACL-R3s7ZzP",
        "outputId": "e04718c1-4d7f-4314-b357-4aab71dc71a1"
      },
      "outputs": [
        {
          "name": "stdout",
          "output_type": "stream",
          "text": [
            "\"Econometrically\" estimated elasticity with unit-, time-, and market- controls, using Poisson loss (coef on LnP):\n"
          ]
        },
        {
          "name": "stderr",
          "output_type": "stream",
          "text": [
            "/usr/local/lib/python3.7/dist-packages/sklearn/utils/deprecation.py:87: FutureWarning: Function get_feature_names is deprecated; get_feature_names is deprecated in 1.0 and will be removed in 1.2. Please use get_feature_names_out instead.\n",
            "  warnings.warn(msg, category=FutureWarning)\n"
          ]
        },
        {
          "data": {
            "text/plain": [
              "feat         LnP\n",
              "coef   -0.391387\n",
              "Name: 3548, dtype: object"
            ]
          },
          "execution_count": null,
          "metadata": {},
          "output_type": "execute_result"
        }
      ],
      "source": [
        "print('\"Econometrically\" estimated elasticity with unit-, time-, and market- controls, using Poisson loss (coef on LnP):')\n",
        "coef = pd.DataFrame({\n",
        "    'feat': mdl_basic['feat_proc'].get_feature_names(),\n",
        "    'coef': mdl_basic['reg'].coef_\n",
        "})\n",
        "coef.iloc[-1]"
      ]
    },
    {
      "cell_type": "code",
      "execution_count": null,
      "metadata": {
        "colab": {
          "background_save": true
        },
        "id": "-y7eQ7Ef7Z2l",
        "outputId": "4bc356ef-7ae0-4299-901f-8b23f64904e9"
      },
      "outputs": [
        {
          "name": "stdout",
          "output_type": "stream",
          "text": [
            "\"Econometrically\" estimated elasticity with unit-, time-, and market- controls, using log-Normal loss (coef on LnP):\n"
          ]
        },
        {
          "name": "stderr",
          "output_type": "stream",
          "text": [
            "/usr/local/lib/python3.7/dist-packages/sklearn/utils/deprecation.py:87: FutureWarning: Function get_feature_names is deprecated; get_feature_names is deprecated in 1.0 and will be removed in 1.2. Please use get_feature_names_out instead.\n",
            "  warnings.warn(msg, category=FutureWarning)\n"
          ]
        },
        {
          "data": {
            "text/plain": [
              "feat         LnP\n",
              "coef    0.503966\n",
              "Name: 3548, dtype: object"
            ]
          },
          "execution_count": null,
          "metadata": {},
          "output_type": "execute_result"
        }
      ],
      "source": [
        "print('\"Econometrically\" estimated elasticity with unit-, time-, and market- controls, using log-Normal loss (coef on LnP):')\n",
        "pd.DataFrame({\n",
        "    'feat': mdl_basic_ols['feat_proc'].get_feature_names(),\n",
        "    'coef': mdl_basic_ols['reg'].coef_\n",
        "}).iloc[-1]"
      ]
    },
    {
      "cell_type": "code",
      "execution_count": null,
      "metadata": {
        "colab": {
          "background_save": true
        },
        "id": "AZ-it7YB7Z_s",
        "outputId": "e87ccf4e-f485-4a7a-9efa-bab548b2286c"
      },
      "outputs": [
        {
          "name": "stderr",
          "output_type": "stream",
          "text": [
            "/usr/local/lib/python3.7/dist-packages/seaborn/distributions.py:2619: FutureWarning: `distplot` is a deprecated function and will be removed in a future version. Please adapt your code to use either `displot` (a figure-level function with similar flexibility) or `histplot` (an axes-level function for histograms).\n",
            "  warnings.warn(msg, FutureWarning)\n",
            "/usr/local/lib/python3.7/dist-packages/seaborn/distributions.py:2619: FutureWarning: `distplot` is a deprecated function and will be removed in a future version. Please adapt your code to use either `displot` (a figure-level function with similar flexibility) or `histplot` (an axes-level function for histograms).\n",
            "  warnings.warn(msg, FutureWarning)\n"
          ]
        },
        {
          "data": {
            "text/plain": [
              "<matplotlib.legend.Legend at 0x7fbf67f72190>"
            ]
          },
          "execution_count": null,
          "metadata": {},
          "output_type": "execute_result"
        },
        {
          "data": {
            "image/png": "[encoded data removed]",
            "text/plain": [
              "<Figure size 432x288 with 2 Axes>"
            ]
          },
          "metadata": {},
          "output_type": "display_data"
        }
      ],
      "source": [
        "# The significant difference in estimates for log-normal vs. Poisson\n",
        "# is explained by Poisson's fat tails: noisy/extreme values have a stronger\n",
        "# effect in log-normal than in Poisson.\n",
        "f, ax = plt.subplots(2, 1, sharex=True)\n",
        "pos_normal = np.random.normal(loc=100, scale=100, size=12_000)\n",
        "pos_normal = pos_normal[pos_normal > 0]\n",
        "sns.distplot(np.log(pos_normal), label='lognormal', ax=ax[0])\n",
        "sns.distplot(np.random.poisson(lam=5, size=10_000), label='Poisson', ax=ax[1])\n",
        "\n",
        "ax[0].legend()\n",
        "ax[1].legend()"
      ]
    },
    {
      "cell_type": "code",
      "execution_count": null,
      "metadata": {
        "colab": {
          "background_save": true
        },
        "id": "CbSPtiis-Y9Z",
        "outputId": "b8ed009a-d448-41ac-a9c7-2037aa81a6c8"
      },
      "outputs": [
        {
          "data": {
            "text/plain": [
              "<matplotlib.axes._subplots.AxesSubplot at 0x7fbf7c21d790>"
            ]
          },
          "execution_count": null,
          "metadata": {},
          "output_type": "execute_result"
        },
        {
          "data": {
            "image/png": "[encoded data removed]",
            "text/plain": [
              "<Figure size 1296x360 with 1 Axes>"
            ]
          },
          "metadata": {},
          "output_type": "display_data"
        }
      ],
      "source": [
        "# For some intuition about this regression, convince ourselves that\n",
        "# the time fixed effects do inded track quantity sold over time\n",
        "# The divergence of q and time-coefs at the beginning and end likely \n",
        "# points towards new products that are introduced/old ones that are faded out\n",
        "(\n",
        "    pd.concat(\n",
        "        [\n",
        "            coef[coef.feat.str.startswith('WEEK_END_DATE')].reset_index(drop=True),\n",
        "            df_mdl.groupby('WEEK_END_DATE').UNITS.sum().reset_index()\n",
        "        ], \n",
        "        axis=1\n",
        "    )\n",
        "    .set_index(['WEEK_END_DATE'])\n",
        "    .drop(columns=['feat'])\n",
        "    .pipe(\n",
        "        lambda d: (d - d.mean()) / d.std()\n",
        "    )\n",
        ").plot(\n",
        "    figsize=(18, 5),\n",
        "    title='Date fixed effects track (avg) sales, but not perfectly: Deviation is explained by large effect of individual items [unit-normalized data]'\n",
        ")"
      ]
    },
    {
      "cell_type": "code",
      "execution_count": null,
      "metadata": {
        "colab": {
          "background_save": true
        },
        "id": "x_9S9EHr-Y_b"
      },
      "outputs": [],
      "source": [
        "# Note that de-meaning happens on StockCode-level here!\n",
        "df_mdl1['dLnP'] = np.log(df_mdl1.PRICE_UNIT) - np.log(df_mdl1.groupby('PRODUCT_CODE').PRICE_UNIT.transform('mean'))\n",
        "df_mdl1['dLnQ'] = np.log(df_mdl1.UNITS) - np.log(df_mdl1.groupby('PRODUCT_CODE').UNITS.transform('mean')) "
      ]
    },
    {
      "cell_type": "code",
      "execution_count": null,
      "metadata": {
        "colab": {
          "background_save": true
        },
        "id": "WHF6xAno-ZC6",
        "outputId": "6c7fa435-42af-46a0-8446-f6f428fe1186"
      },
      "outputs": [
        {
          "data": {
            "text/html": [
              "\n",
              "  <div id=\"df-d7af1dc7-5421-4f14-802d-0022767d690d\">\n",
              "    <div class=\"colab-df-container\">\n",
              "      <div>\n",
              "<style scoped>\n",
              "    .dataframe tbody tr th:only-of-type {\n",
              "        vertical-align: middle;\n",
              "    }\n",
              "\n",
              "    .dataframe tbody tr th {\n",
              "        vertical-align: top;\n",
              "    }\n",
              "\n",
              "    .dataframe thead th {\n",
              "        text-align: right;\n",
              "    }\n",
              "</style>\n",
              "<table border=\"1\" class=\"dataframe\">\n",
              "  <thead>\n",
              "    <tr style=\"text-align: right;\">\n",
              "      <th></th>\n",
              "      <th>dLnP</th>\n",
              "      <th>dLnQ</th>\n",
              "    </tr>\n",
              "  </thead>\n",
              "  <tbody>\n",
              "    <tr>\n",
              "      <th>dLnP</th>\n",
              "      <td>0.130611</td>\n",
              "      <td>0.098935</td>\n",
              "    </tr>\n",
              "    <tr>\n",
              "      <th>dLnQ</th>\n",
              "      <td>0.098935</td>\n",
              "      <td>3.232075</td>\n",
              "    </tr>\n",
              "  </tbody>\n",
              "</table>\n",
              "</div>\n",
              "      <button class=\"colab-df-convert\" onclick=\"convertToInteractive('df-d7af1dc7-5421-4f14-802d-0022767d690d')\"\n",
              "              title=\"Convert this dataframe to an interactive table.\"\n",
              "              style=\"display:none;\">\n",
              "        \n",
              "  <svg xmlns=\"http://www.w3.org/2000/svg\" height=\"24px\"viewBox=\"0 0 24 24\"\n",
              "       width=\"24px\">\n",
              "    <path d=\"M0 0h24v24H0V0z\" fill=\"none\"/>\n",
              "    <path d=\"M18.56 5.44l.94 2.06.94-2.06 2.06-.94-2.06-.94-.94-2.06-.94 2.06-2.06.94zm-11 1L8.5 8.5l.94-2.06 2.06-.94-2.06-.94L8.5 2.5l-.94 2.06-2.06.94zm10 10l.94 2.06.94-2.06 2.06-.94-2.06-.94-.94-2.06-.94 2.06-2.06.94z\"/><path d=\"M17.41 7.96l-1.37-1.37c-.4-.4-.92-.59-1.43-.59-.52 0-1.04.2-1.43.59L10.3 9.45l-7.72 7.72c-.78.78-.78 2.05 0 2.83L4 21.41c.39.39.9.59 1.41.59.51 0 1.02-.2 1.41-.59l7.78-7.78 2.81-2.81c.8-.78.8-2.07 0-2.86zM5.41 20L4 18.59l7.72-7.72 1.47 1.35L5.41 20z\"/>\n",
              "  </svg>\n",
              "      </button>\n",
              "      \n",
              "  <style>\n",
              "    .colab-df-container {\n",
              "      display:flex;\n",
              "      flex-wrap:wrap;\n",
              "      gap: 12px;\n",
              "    }\n",
              "\n",
              "    .colab-df-convert {\n",
              "      background-color: #E8F0FE;\n",
              "      border: none;\n",
              "      border-radius: 50%;\n",
              "      cursor: pointer;\n",
              "      display: none;\n",
              "      fill: #1967D2;\n",
              "      height: 32px;\n",
              "      padding: 0 0 0 0;\n",
              "      width: 32px;\n",
              "    }\n",
              "\n",
              "    .colab-df-convert:hover {\n",
              "      background-color: #E2EBFA;\n",
              "      box-shadow: 0px 1px 2px rgba(60, 64, 67, 0.3), 0px 1px 3px 1px rgba(60, 64, 67, 0.15);\n",
              "      fill: #174EA6;\n",
              "    }\n",
              "\n",
              "    [theme=dark] .colab-df-convert {\n",
              "      background-color: #3B4455;\n",
              "      fill: #D2E3FC;\n",
              "    }\n",
              "\n",
              "    [theme=dark] .colab-df-convert:hover {\n",
              "      background-color: #434B5C;\n",
              "      box-shadow: 0px 1px 3px 1px rgba(0, 0, 0, 0.15);\n",
              "      filter: drop-shadow(0px 1px 2px rgba(0, 0, 0, 0.3));\n",
              "      fill: #FFFFFF;\n",
              "    }\n",
              "  </style>\n",
              "\n",
              "      <script>\n",
              "        const buttonEl =\n",
              "          document.querySelector('#df-d7af1dc7-5421-4f14-802d-0022767d690d button.colab-df-convert');\n",
              "        buttonEl.style.display =\n",
              "          google.colab.kernel.accessAllowed ? 'block' : 'none';\n",
              "\n",
              "        async function convertToInteractive(key) {\n",
              "          const element = document.querySelector('#df-d7af1dc7-5421-4f14-802d-0022767d690d');\n",
              "          const dataTable =\n",
              "            await google.colab.kernel.invokeFunction('convertToInteractive',\n",
              "                                                     [key], {});\n",
              "          if (!dataTable) return;\n",
              "\n",
              "          const docLinkHtml = 'Like what you see? Visit the ' +\n",
              "            '<a target=\"_blank\" href=https://colab.research.google.com/notebooks/data_table.ipynb>data table notebook</a>'\n",
              "            + ' to learn more about interactive tables.';\n",
              "          element.innerHTML = '';\n",
              "          dataTable['output_type'] = 'display_data';\n",
              "          await google.colab.output.renderOutput(dataTable, element);\n",
              "          const docLink = document.createElement('div');\n",
              "          docLink.innerHTML = docLinkHtml;\n",
              "          element.appendChild(docLink);\n",
              "        }\n",
              "      </script>\n",
              "    </div>\n",
              "  </div>\n",
              "  "
            ],
            "text/plain": [
              "          dLnP      dLnQ\n",
              "dLnP  0.130611  0.098935\n",
              "dLnQ  0.098935  3.232075"
            ]
          },
          "execution_count": null,
          "metadata": {},
          "output_type": "execute_result"
        }
      ],
      "source": [
        "df_mdl1[['dLnP', 'dLnQ']].cov()"
      ]
    },
    {
      "cell_type": "code",
      "execution_count": null,
      "metadata": {
        "colab": {
          "background_save": true
        },
        "id": "N0I2uI9rDahd",
        "outputId": "8a2f2c5e-bec7-4414-eb9e-2a90b510a93c"
      },
      "outputs": [
        {
          "data": {
            "text/plain": [
              "-0.10176490440928312"
            ]
          },
          "execution_count": null,
          "metadata": {},
          "output_type": "execute_result"
        }
      ],
      "source": [
        "e= -0.010252/0.100742\n",
        "e"
      ]
    },
    {
      "cell_type": "code",
      "execution_count": null,
      "metadata": {
        "colab": {
          "background_save": true
        },
        "id": "rko6k4t6_uUX",
        "outputId": "065ecb53-e38c-4608-d361-25e6ebb3283b"
      },
      "outputs": [
        {
          "data": {
            "text/plain": [
              "BRAND                       object\n",
              "CATEGORY                    object\n",
              "PRODUCT_CODE                object\n",
              "FORMAT                      object\n",
              "WEEK_END_DATE       datetime64[ns]\n",
              "UNITS                        int64\n",
              "AMT_VALUE                  float64\n",
              "BASE_UNITS                 float64\n",
              "BASE_AMT_VALUE             float64\n",
              "ACV_DISTRIBUTION           float64\n",
              "PRICE_UNIT                 float64\n",
              "LnP                        float64\n",
              "LnQ                        float64\n",
              "dLnP                       float64\n",
              "dLnQ                       float64\n",
              "dtype: object"
            ]
          },
          "execution_count": null,
          "metadata": {},
          "output_type": "execute_result"
        }
      ],
      "source": [
        "df_mdl1['WEEK_END_DATE']=pd.to_datetime(df_mdl1['WEEK_END_DATE'])\n",
        "df_mdl1.dtypes"
      ]
    },
    {
      "cell_type": "code",
      "execution_count": null,
      "metadata": {
        "colab": {
          "background_save": true
        },
        "id": "pSVPiqie-ZOM"
      },
      "outputs": [],
      "source": [
        "df_mdl2 = df_mdl1.assign(\n",
        "    month = lambda d: d.WEEK_END_DATE.dt.month,\n",
        "    DoM =   lambda d: d.WEEK_END_DATE.dt.day,\n",
        "    DoW =   lambda d: d.WEEK_END_DATE.dt.weekday,\n",
        "    stock_age_days = lambda d: \n",
        "        (d.WEEK_END_DATE - d.groupby('PRODUCT_CODE').WEEK_END_DATE.transform('min')).dt.days,\n",
        "    sku_avg_p = lambda d: \n",
        "        d.groupby('PRODUCT_CODE').PRICE_UNIT.transform('median')\n",
        ")"
      ]
    },
    {
      "cell_type": "code",
      "execution_count": null,
      "metadata": {
        "colab": {
          "background_save": true
        },
        "id": "9jVMxrN4_W0R",
        "outputId": "eed091d3-22fc-47a5-a2e1-cd9de9bf981b"
      },
      "outputs": [
        {
          "data": {
            "text/html": [
              "\n",
              "  <div id=\"df-27f1df0a-cafb-4caa-9ce6-a3f7f9dbb03c\">\n",
              "    <div class=\"colab-df-container\">\n",
              "      <div>\n",
              "<style scoped>\n",
              "    .dataframe tbody tr th:only-of-type {\n",
              "        vertical-align: middle;\n",
              "    }\n",
              "\n",
              "    .dataframe tbody tr th {\n",
              "        vertical-align: top;\n",
              "    }\n",
              "\n",
              "    .dataframe thead th {\n",
              "        text-align: right;\n",
              "    }\n",
              "</style>\n",
              "<table border=\"1\" class=\"dataframe\">\n",
              "  <thead>\n",
              "    <tr style=\"text-align: right;\">\n",
              "      <th></th>\n",
              "      <th>BRAND</th>\n",
              "      <th>CATEGORY</th>\n",
              "      <th>PRODUCT_CODE</th>\n",
              "      <th>FORMAT</th>\n",
              "      <th>WEEK_END_DATE</th>\n",
              "      <th>UNITS</th>\n",
              "      <th>AMT_VALUE</th>\n",
              "      <th>BASE_UNITS</th>\n",
              "      <th>BASE_AMT_VALUE</th>\n",
              "      <th>ACV_DISTRIBUTION</th>\n",
              "      <th>PRICE_UNIT</th>\n",
              "      <th>LnP</th>\n",
              "      <th>LnQ</th>\n",
              "      <th>dLnP</th>\n",
              "      <th>dLnQ</th>\n",
              "      <th>month</th>\n",
              "      <th>DoM</th>\n",
              "      <th>DoW</th>\n",
              "      <th>stock_age_days</th>\n",
              "      <th>sku_avg_p</th>\n",
              "    </tr>\n",
              "  </thead>\n",
              "  <tbody>\n",
              "    <tr>\n",
              "      <th>309792</th>\n",
              "      <td>BR070</td>\n",
              "      <td>AIRCARE - HOME</td>\n",
              "      <td>S_0000000370170</td>\n",
              "      <td>CAR AIRFRESHNERS</td>\n",
              "      <td>2019-10-26</td>\n",
              "      <td>1</td>\n",
              "      <td>1.5</td>\n",
              "      <td>1.0</td>\n",
              "      <td>1.5</td>\n",
              "      <td>0.0</td>\n",
              "      <td>1.500000</td>\n",
              "      <td>0.405465</td>\n",
              "      <td>0.000000</td>\n",
              "      <td>0.000000</td>\n",
              "      <td>0.000000</td>\n",
              "      <td>10</td>\n",
              "      <td>26</td>\n",
              "      <td>5</td>\n",
              "      <td>0</td>\n",
              "      <td>1.500000</td>\n",
              "    </tr>\n",
              "    <tr>\n",
              "      <th>11138</th>\n",
              "      <td>BR035</td>\n",
              "      <td>AIRCARE - MAIN</td>\n",
              "      <td>S_0000002454256</td>\n",
              "      <td>CANDLES</td>\n",
              "      <td>2019-08-17</td>\n",
              "      <td>9013</td>\n",
              "      <td>21830.9</td>\n",
              "      <td>1636.3</td>\n",
              "      <td>6206.8</td>\n",
              "      <td>55.0</td>\n",
              "      <td>2.422157</td>\n",
              "      <td>0.884658</td>\n",
              "      <td>9.106423</td>\n",
              "      <td>0.075128</td>\n",
              "      <td>0.668526</td>\n",
              "      <td>8</td>\n",
              "      <td>17</td>\n",
              "      <td>5</td>\n",
              "      <td>0</td>\n",
              "      <td>2.300673</td>\n",
              "    </tr>\n",
              "    <tr>\n",
              "      <th>224178</th>\n",
              "      <td>BR035</td>\n",
              "      <td>AIRCARE - MAIN</td>\n",
              "      <td>S_0000002454256</td>\n",
              "      <td>CANDLES</td>\n",
              "      <td>2019-08-24</td>\n",
              "      <td>7580</td>\n",
              "      <td>18415.6</td>\n",
              "      <td>1610.1</td>\n",
              "      <td>5788.2</td>\n",
              "      <td>54.4</td>\n",
              "      <td>2.429499</td>\n",
              "      <td>0.887685</td>\n",
              "      <td>8.933268</td>\n",
              "      <td>0.078154</td>\n",
              "      <td>0.495371</td>\n",
              "      <td>8</td>\n",
              "      <td>24</td>\n",
              "      <td>5</td>\n",
              "      <td>7</td>\n",
              "      <td>2.300673</td>\n",
              "    </tr>\n",
              "    <tr>\n",
              "      <th>129143</th>\n",
              "      <td>BR035</td>\n",
              "      <td>AIRCARE - MAIN</td>\n",
              "      <td>S_0000002454256</td>\n",
              "      <td>CANDLES</td>\n",
              "      <td>2019-08-31</td>\n",
              "      <td>4927</td>\n",
              "      <td>13223.5</td>\n",
              "      <td>2377.2</td>\n",
              "      <td>7941.6</td>\n",
              "      <td>52.2</td>\n",
              "      <td>2.683885</td>\n",
              "      <td>0.987265</td>\n",
              "      <td>8.502486</td>\n",
              "      <td>0.177735</td>\n",
              "      <td>0.064588</td>\n",
              "      <td>8</td>\n",
              "      <td>31</td>\n",
              "      <td>5</td>\n",
              "      <td>14</td>\n",
              "      <td>2.300673</td>\n",
              "    </tr>\n",
              "    <tr>\n",
              "      <th>96163</th>\n",
              "      <td>BR035</td>\n",
              "      <td>AIRCARE - MAIN</td>\n",
              "      <td>S_0000002454256</td>\n",
              "      <td>CANDLES</td>\n",
              "      <td>2019-09-07</td>\n",
              "      <td>2510</td>\n",
              "      <td>7752.9</td>\n",
              "      <td>1764.3</td>\n",
              "      <td>5907.3</td>\n",
              "      <td>41.4</td>\n",
              "      <td>3.088805</td>\n",
              "      <td>1.127784</td>\n",
              "      <td>7.828038</td>\n",
              "      <td>0.318254</td>\n",
              "      <td>-0.609859</td>\n",
              "      <td>9</td>\n",
              "      <td>7</td>\n",
              "      <td>5</td>\n",
              "      <td>21</td>\n",
              "      <td>2.300673</td>\n",
              "    </tr>\n",
              "  </tbody>\n",
              "</table>\n",
              "</div>\n",
              "      <button class=\"colab-df-convert\" onclick=\"convertToInteractive('df-27f1df0a-cafb-4caa-9ce6-a3f7f9dbb03c')\"\n",
              "              title=\"Convert this dataframe to an interactive table.\"\n",
              "              style=\"display:none;\">\n",
              "        \n",
              "  <svg xmlns=\"http://www.w3.org/2000/svg\" height=\"24px\"viewBox=\"0 0 24 24\"\n",
              "       width=\"24px\">\n",
              "    <path d=\"M0 0h24v24H0V0z\" fill=\"none\"/>\n",
              "    <path d=\"M18.56 5.44l.94 2.06.94-2.06 2.06-.94-2.06-.94-.94-2.06-.94 2.06-2.06.94zm-11 1L8.5 8.5l.94-2.06 2.06-.94-2.06-.94L8.5 2.5l-.94 2.06-2.06.94zm10 10l.94 2.06.94-2.06 2.06-.94-2.06-.94-.94-2.06-.94 2.06-2.06.94z\"/><path d=\"M17.41 7.96l-1.37-1.37c-.4-.4-.92-.59-1.43-.59-.52 0-1.04.2-1.43.59L10.3 9.45l-7.72 7.72c-.78.78-.78 2.05 0 2.83L4 21.41c.39.39.9.59 1.41.59.51 0 1.02-.2 1.41-.59l7.78-7.78 2.81-2.81c.8-.78.8-2.07 0-2.86zM5.41 20L4 18.59l7.72-7.72 1.47 1.35L5.41 20z\"/>\n",
              "  </svg>\n",
              "      </button>\n",
              "      \n",
              "  <style>\n",
              "    .colab-df-container {\n",
              "      display:flex;\n",
              "      flex-wrap:wrap;\n",
              "      gap: 12px;\n",
              "    }\n",
              "\n",
              "    .colab-df-convert {\n",
              "      background-color: #E8F0FE;\n",
              "      border: none;\n",
              "      border-radius: 50%;\n",
              "      cursor: pointer;\n",
              "      display: none;\n",
              "      fill: #1967D2;\n",
              "      height: 32px;\n",
              "      padding: 0 0 0 0;\n",
              "      width: 32px;\n",
              "    }\n",
              "\n",
              "    .colab-df-convert:hover {\n",
              "      background-color: #E2EBFA;\n",
              "      box-shadow: 0px 1px 2px rgba(60, 64, 67, 0.3), 0px 1px 3px 1px rgba(60, 64, 67, 0.15);\n",
              "      fill: #174EA6;\n",
              "    }\n",
              "\n",
              "    [theme=dark] .colab-df-convert {\n",
              "      background-color: #3B4455;\n",
              "      fill: #D2E3FC;\n",
              "    }\n",
              "\n",
              "    [theme=dark] .colab-df-convert:hover {\n",
              "      background-color: #434B5C;\n",
              "      box-shadow: 0px 1px 3px 1px rgba(0, 0, 0, 0.15);\n",
              "      filter: drop-shadow(0px 1px 2px rgba(0, 0, 0, 0.3));\n",
              "      fill: #FFFFFF;\n",
              "    }\n",
              "  </style>\n",
              "\n",
              "      <script>\n",
              "        const buttonEl =\n",
              "          document.querySelector('#df-27f1df0a-cafb-4caa-9ce6-a3f7f9dbb03c button.colab-df-convert');\n",
              "        buttonEl.style.display =\n",
              "          google.colab.kernel.accessAllowed ? 'block' : 'none';\n",
              "\n",
              "        async function convertToInteractive(key) {\n",
              "          const element = document.querySelector('#df-27f1df0a-cafb-4caa-9ce6-a3f7f9dbb03c');\n",
              "          const dataTable =\n",
              "            await google.colab.kernel.invokeFunction('convertToInteractive',\n",
              "                                                     [key], {});\n",
              "          if (!dataTable) return;\n",
              "\n",
              "          const docLinkHtml = 'Like what you see? Visit the ' +\n",
              "            '<a target=\"_blank\" href=https://colab.research.google.com/notebooks/data_table.ipynb>data table notebook</a>'\n",
              "            + ' to learn more about interactive tables.';\n",
              "          element.innerHTML = '';\n",
              "          dataTable['output_type'] = 'display_data';\n",
              "          await google.colab.output.renderOutput(dataTable, element);\n",
              "          const docLink = document.createElement('div');\n",
              "          docLink.innerHTML = docLinkHtml;\n",
              "          element.appendChild(docLink);\n",
              "        }\n",
              "      </script>\n",
              "    </div>\n",
              "  </div>\n",
              "  "
            ],
            "text/plain": [
              "        BRAND        CATEGORY     PRODUCT_CODE            FORMAT  \\\n",
              "309792  BR070  AIRCARE - HOME  S_0000000370170  CAR AIRFRESHNERS   \n",
              "11138   BR035  AIRCARE - MAIN  S_0000002454256           CANDLES   \n",
              "224178  BR035  AIRCARE - MAIN  S_0000002454256           CANDLES   \n",
              "129143  BR035  AIRCARE - MAIN  S_0000002454256           CANDLES   \n",
              "96163   BR035  AIRCARE - MAIN  S_0000002454256           CANDLES   \n",
              "\n",
              "       WEEK_END_DATE  UNITS  AMT_VALUE  BASE_UNITS  BASE_AMT_VALUE  \\\n",
              "309792    2019-10-26      1        1.5         1.0             1.5   \n",
              "11138     2019-08-17   9013    21830.9      1636.3          6206.8   \n",
              "224178    2019-08-24   7580    18415.6      1610.1          5788.2   \n",
              "129143    2019-08-31   4927    13223.5      2377.2          7941.6   \n",
              "96163     2019-09-07   2510     7752.9      1764.3          5907.3   \n",
              "\n",
              "        ACV_DISTRIBUTION  PRICE_UNIT       LnP       LnQ      dLnP      dLnQ  \\\n",
              "309792               0.0    1.500000  0.405465  0.000000  0.000000  0.000000   \n",
              "11138               55.0    2.422157  0.884658  9.106423  0.075128  0.668526   \n",
              "224178              54.4    2.429499  0.887685  8.933268  0.078154  0.495371   \n",
              "129143              52.2    2.683885  0.987265  8.502486  0.177735  0.064588   \n",
              "96163               41.4    3.088805  1.127784  7.828038  0.318254 -0.609859   \n",
              "\n",
              "        month  DoM  DoW  stock_age_days  sku_avg_p  \n",
              "309792     10   26    5               0   1.500000  \n",
              "11138       8   17    5               0   2.300673  \n",
              "224178      8   24    5               7   2.300673  \n",
              "129143      8   31    5              14   2.300673  \n",
              "96163       9    7    5              21   2.300673  "
            ]
          },
          "execution_count": null,
          "metadata": {},
          "output_type": "execute_result"
        }
      ],
      "source": [
        "df_mdl2.head()"
      ]
    },
    {
      "cell_type": "code",
      "execution_count": null,
      "metadata": {
        "colab": {
          "background_save": true
        },
        "id": "3BJHlV8LAnSV",
        "outputId": "dd5ec060-1f5e-40fc-f064-b897ff89e011"
      },
      "outputs": [
        {
          "data": {
            "text/plain": [
              "CANDLES                           25781\n",
              "CAR AIRFRESHNERS                  16714\n",
              "ELECTRICALS                       14299\n",
              "AUTOMATIC SPRAY                   11437\n",
              "OTHER SLOW RELEASE - WAX MELTS     9483\n",
              "SPRAY                              7891\n",
              "LIQUID                             7396\n",
              "STANDARD SPRAY                     6138\n",
              "TABLETS WITH SOLUBLE FILM          5655\n",
              "WIPES                              4336\n",
              "LIQUID WICK                        4291\n",
              "GEL                                3706\n",
              "POWDER                             3286\n",
              "TABLETS                            3042\n",
              "BLOCK                              2786\n",
              "OTHER                              2056\n",
              "CONCENTRATED SPRAY                 1405\n",
              "PORTABLE ELECTRICAL                1297\n",
              "TOTAL GELS                          646\n",
              "OTHER SLOW RELEASE                  527\n",
              "CREAM                               506\n",
              "LIQUID GEL                          501\n",
              "DISINFECTANT LIQUIDS                464\n",
              "GRAN                                351\n",
              "FOAM                                305\n",
              "SPONGE                              171\n",
              "CARPET/VACUUM CLEANER FRSHNR        169\n",
              "PADS                                134\n",
              "BAR                                 106\n",
              "CLOTH                               101\n",
              "PAD                                  91\n",
              "STICK                                85\n",
              "KIT                                  62\n",
              "MOUSSE                               24\n",
              "SACHET                               10\n",
              "TABLET                                1\n",
              "Name: FORMAT, dtype: int64"
            ]
          },
          "execution_count": null,
          "metadata": {},
          "output_type": "execute_result"
        }
      ],
      "source": [
        "df_mdl2['FORMAT'].value_counts()"
      ]
    },
    {
      "cell_type": "code",
      "execution_count": null,
      "metadata": {
        "colab": {
          "background_save": true
        },
        "id": "YEvPHmeUAbHp",
        "outputId": "c5443894-7d3b-4ff9-e961-52c2ba46ad71"
      },
      "outputs": [
        {
          "data": {
            "text/plain": [
              "Index(['BRAND', 'CATEGORY', 'PRODUCT_CODE', 'FORMAT', 'WEEK_END_DATE', 'UNITS',\n",
              "       'AMT_VALUE', 'BASE_UNITS', 'BASE_AMT_VALUE', 'ACV_DISTRIBUTION',\n",
              "       'PRICE_UNIT', 'LnP', 'LnQ', 'dLnP', 'dLnQ', 'month', 'DoM', 'DoW',\n",
              "       'stock_age_days', 'sku_avg_p'],\n",
              "      dtype='object')"
            ]
          },
          "execution_count": null,
          "metadata": {},
          "output_type": "execute_result"
        }
      ],
      "source": [
        "df_mdl2.columns"
      ]
    },
    {
      "cell_type": "code",
      "execution_count": null,
      "metadata": {
        "colab": {
          "background_save": true
        },
        "id": "wXuCBy62_W2G"
      },
      "outputs": [],
      "source": [
        "from sklearn.ensemble import RandomForestRegressor\n",
        "feature_generator_full = ColumnTransformer(\n",
        "    [\n",
        "        # do NOT include to reduce overfit (price is sku-level-demeaned anyway): \n",
        "        # ('StockCode', OneHotEncoder(), ['StockCode']), \n",
        "        ('WEEK_END_DATE', OneHotEncoder(), ['WEEK_END_DATE']),\n",
        "        ('FORMAT', CountVectorizer(min_df=0.0025, ngram_range=(1, 3)), 'FORMAT'),\n",
        "        ('CATEGORY', OneHotEncoder(), ['CATEGORY']),   \n",
        "        # ('BRAND', OneHotEncoder(), ['BRAND']),\n",
        "        ('numeric_feats', StandardScaler(), ['month', 'DoM', 'DoW', 'stock_age_days', 'sku_avg_p']),\n",
        "    ], remainder='drop'\n",
        ")"
      ]
    },
    {
      "cell_type": "code",
      "execution_count": null,
      "metadata": {
        "colab": {
          "background_save": true
        },
        "id": "hN205tlXAFAU"
      },
      "outputs": [],
      "source": [
        "model_y = Pipeline([\n",
        "    ('feat_proc', feature_generator_full),\n",
        "    ('model_y', RandomForestRegressor(n_estimators=50, min_samples_leaf=3, n_jobs=-1, verbose=0)) \n",
        "    # n_samples_leaf/n_estimators is set to reduce model (file) size and runtime\n",
        "    # larger models yield prettier plots.\n",
        "])\n",
        "model_t = Pipeline([\n",
        "    ('feat_proc', feature_generator_full),\n",
        "    ('model_t', RandomForestRegressor(n_estimators=50, min_samples_leaf=3, n_jobs=-1, verbose=0))\n",
        "])"
      ]
    },
    {
      "cell_type": "code",
      "execution_count": null,
      "metadata": {
        "colab": {
          "background_save": true,
          "base_uri": "https://localhost:8080/"
        },
        "id": "_L0foLxeAFD3",
        "outputId": "32652cd7-1a86-422a-da40-9679f43d738a"
      },
      "outputs": [
        {
          "name": "stdout",
          "output_type": "stream",
          "text": [
            "No pre-existing models found, fitting aux models for y and t\n"
          ]
        }
      ],
      "source": [
        "import joblib\n",
        "\n",
        "try: # load existing models, if possible\n",
        "    model_y = joblib.load('models/step1_model_y.joblib')\n",
        "    model_t = joblib.load('models/step1_model_t.joblib')\n",
        "except:\n",
        "    print('No pre-existing models found, fitting aux models for y and t')\n",
        "    model_y.fit(df_mdl2, df_mdl2.dLnQ)\n",
        "    model_t.fit(df_mdl2, df_mdl2.dLnP)"
      ]
    },
    {
      "cell_type": "code",
      "execution_count": null,
      "metadata": {
        "colab": {
          "background_save": true
        },
        "id": "DxbqzPQz_W5t"
      },
      "outputs": [],
      "source": [
        "# Get first-step, predictions to residualize (\"orthogonalize\") with (in-sample for now)\n",
        "q_hat = model_y.predict(df_mdl2)\n",
        "p_hat = model_t.predict(df_mdl2)"
      ]
    },
    {
      "cell_type": "code",
      "execution_count": null,
      "metadata": {
        "colab": {
          "background_save": true
        },
        "id": "0R8WDWl-vWSM"
      },
      "outputs": [],
      "source": [
        "df_mdl2 = df_mdl2.assign(\n",
        "    dLnP_res = df_mdl2['dLnP'] - p_hat,\n",
        "    dLnQ_res = df_mdl2['dLnQ'] - q_hat,\n",
        ")"
      ]
    },
    {
      "cell_type": "code",
      "execution_count": null,
      "metadata": {
        "colab": {
          "background_save": true
        },
        "id": "oU_o1uQRCddN",
        "outputId": "611ed939-7862-4ab6-f0e8-3723420d7404"
      },
      "outputs": [
        {
          "name": "stderr",
          "output_type": "stream",
          "text": [
            "/usr/local/lib/python3.7/dist-packages/statsmodels/tsa/tsatools.py:117: FutureWarning: In a future version of pandas all arguments of concat except for the argument 'objs' will be keyword-only\n",
            "  x = pd.concat(x[::order], 1)\n",
            "/usr/local/lib/python3.7/dist-packages/statsmodels/tsa/tsatools.py:117: FutureWarning: In a future version of pandas all arguments of concat except for the argument 'objs' will be keyword-only\n",
            "  x = pd.concat(x[::order], 1)\n"
          ]
        },
        {
          "name": "stdout",
          "output_type": "stream",
          "text": [
            "\"Average\" elasticity estimated using DML to be -0.328\n",
            "Note that this is close to our econometric contols - some difference comes from the different distribution assumptions (Poisson vs. log-normal)\n"
          ]
        },
        {
          "data": {
            "image/png": "[encoded data removed]",
            "text/plain": [
              "<Figure size 1296x432 with 1 Axes>"
            ]
          },
          "metadata": {},
          "output_type": "display_data"
        }
      ],
      "source": [
        "old_fit = binned_ols(\n",
        "    df_mdl2,\n",
        "    x='dLnP',\n",
        "    y='dLnQ',\n",
        "    n_bins=15,\n",
        ")\n",
        "\n",
        "old_fit = binned_ols(\n",
        "    df_mdl2,\n",
        "    x='dLnP_res',\n",
        "    y='dLnQ_res',\n",
        "    n_bins=15,\n",
        "    plot_title='Naive causal regression after DML. Note that some variation in price & quantity is \"explained away\"',\n",
        "    plot_ax=plt.gca()\n",
        ")\n",
        "\n",
        "plt.gca().axvline(0, color='k', linestyle=':')\n",
        "plt.gca().axhline(0, color='k', linestyle=':')\n",
        "\n",
        "\n",
        "print(\n",
        "    f'\"Average\" elasticity estimated using DML to be {old_fit.params[\"dLnP_res\"]:.3f}\\n'\n",
        "    'Note that this is close to our econometric contols - some difference comes from the different distribution '\n",
        "    'assumptions (Poisson vs. log-normal)'\n",
        ")"
      ]
    },
    {
      "cell_type": "code",
      "execution_count": null,
      "metadata": {
        "colab": {
          "background_save": true
        },
        "id": "38ufhrvfCdfh",
        "outputId": "4538f7f9-bb72-401c-8616-9a873af7eb44"
      },
      "outputs": [
        {
          "name": "stderr",
          "output_type": "stream",
          "text": [
            "/usr/local/lib/python3.7/dist-packages/statsmodels/tsa/tsatools.py:117: FutureWarning: In a future version of pandas all arguments of concat except for the argument 'objs' will be keyword-only\n",
            "  x = pd.concat(x[::order], 1)\n",
            "/usr/local/lib/python3.7/dist-packages/statsmodels/tsa/tsatools.py:117: FutureWarning: In a future version of pandas all arguments of concat except for the argument 'objs' will be keyword-only\n",
            "  x = pd.concat(x[::order], 1)\n",
            "/usr/local/lib/python3.7/dist-packages/statsmodels/tsa/tsatools.py:117: FutureWarning: In a future version of pandas all arguments of concat except for the argument 'objs' will be keyword-only\n",
            "  x = pd.concat(x[::order], 1)\n"
          ]
        },
        {
          "name": "stdout",
          "output_type": "stream",
          "text": [
            "\"Average\" elasticity estimated using DML (now supposedly valid estimate!) to be -0.328\n",
            "Note that this is close to our econometric contols - some difference comes from the different distribution assumptions (Poisson vs. log-normal)\n"
          ]
        },
        {
          "data": {
            "image/png": "[encoded data removed]",
            "text/plain": [
              "<Figure size 1296x432 with 1 Axes>"
            ]
          },
          "metadata": {},
          "output_type": "display_data"
        }
      ],
      "source": [
        "old_fit = binned_ols(\n",
        "    df_mdl,\n",
        "    x='LnP',\n",
        "    y='LnQ',\n",
        "    n_bins=15,\n",
        ")\n",
        "\n",
        "old_fit = binned_ols(\n",
        "    df_mdl2,\n",
        "    x='dLnP',\n",
        "    y='dLnQ',\n",
        "    n_bins=15,\n",
        "    plot_ax=plt.gca(),\n",
        ")\n",
        "\n",
        "old_fit = binned_ols(\n",
        "    df_mdl2,\n",
        "    x='dLnP_res',\n",
        "    y='dLnQ_res',\n",
        "    n_bins=15,\n",
        "    plot_title='Causal regression naively, with item controls, and after DML.',\n",
        "    plot_ax=plt.gca()\n",
        ")\n",
        "plt.gca().set(\n",
        "    xlabel='log(price)',\n",
        "    ylabel='log(quantity)',    \n",
        ")\n",
        "\n",
        "plt.gca().axvline(0, color='k', linestyle=':')\n",
        "plt.gca().axhline(0, color='k', linestyle=':')\n",
        "\n",
        "\n",
        "print(\n",
        "    f'\"Average\" elasticity estimated using DML (now supposedly valid estimate!) to be {old_fit.params[\"dLnP_res\"]:.3f}\\n'\n",
        "    'Note that this is close to our econometric contols - some difference comes from the different distribution '\n",
        "    'assumptions (Poisson vs. log-normal)'\n",
        ")"
      ]
    },
    {
      "cell_type": "code",
      "execution_count": null,
      "metadata": {
        "colab": {
          "background_save": true
        },
        "id": "Sek84lTeCdhq"
      },
      "outputs": [],
      "source": [
        "def get_feat_generator_names(gen):\n",
        "    # workaround to sklearn native .get_feature_names() failing\n",
        "    # because StandardScaler strangely doesn't implement it\n",
        "    res = []\n",
        "    for i, (k, t) in enumerate(gen.named_transformers_.items()):\n",
        "        if k == 'remainder':\n",
        "            continue\n",
        "        try: \n",
        "            res += [f'{k}_{n}' for n in t.get_feature_names()]\n",
        "        except:\n",
        "            res += list(gen.transformers_[i][2])\n",
        "    return res"
      ]
    },
    {
      "cell_type": "code",
      "execution_count": null,
      "metadata": {
        "colab": {
          "background_save": true
        },
        "id": "Te2CivfoEKa5",
        "outputId": "7b32e8c4-7027-41a5-89af-be06e4887bed"
      },
      "outputs": [
        {
          "name": "stderr",
          "output_type": "stream",
          "text": [
            "/usr/local/lib/python3.7/dist-packages/sklearn/utils/deprecation.py:87: FutureWarning: Function get_feature_names is deprecated; get_feature_names is deprecated in 1.0 and will be removed in 1.2. Please use get_feature_names_out instead.\n",
            "  warnings.warn(msg, category=FutureWarning)\n"
          ]
        },
        {
          "data": {
            "text/plain": [
              "<matplotlib.axes._subplots.AxesSubplot at 0x7fbf6b793c10>"
            ]
          },
          "execution_count": null,
          "metadata": {},
          "output_type": "execute_result"
        },
        {
          "data": {
            "image/png": "[encoded data removed]",
            "text/plain": [
              "<Figure size 360x576 with 1 Axes>"
            ]
          },
          "metadata": {},
          "output_type": "display_data"
        }
      ],
      "source": [
        "feat_imp = pd.DataFrame({\n",
        "    'feat': get_feat_generator_names(model_y['feat_proc']),\n",
        "    'importance_q': model_y['model_y'].feature_importances_,\n",
        "    'importance_p': model_t['model_t'].feature_importances_,\n",
        "}).set_index('feat')\n",
        "\n",
        "feat_imp.sort_values(\n",
        "    by='importance_p'\n",
        ").iloc[-15:].plot.barh(\n",
        "    figsize=(5, 8), \n",
        "    title='feature importances for DML estimators of treatment(p) and outcome(q)'\n",
        ")"
      ]
    },
    {
      "cell_type": "markdown",
      "metadata": {
        "id": "O0Zqws7zEmGE"
      },
      "source": [
        "### Step 2: Inferential model for causal elasticity\n",
        "Now, the inferential model is trying to predict \n",
        " \n",
        ". After residualizing, dLnP_res is often very small. These values blow up our estimator - so to reduce noisiness, we are dropping all observations with very small residual price variation. Arguably, they don't contain much information anyway, because there is so little price variation left.\n",
        "\n",
        "There is one more technicality in DML: Chernozhukov proposes using a slightly different estimator of treatment effect than standard OLS for robustness reasons. Instead of taking the standard OLS-solution, \n",
        ", Chernozhukov uses the following, de-biased estimator. Note that the first  is residualized, while the second is not, and the third is.\n",
        "\n",
        "This estimator is fit 2-fold, once on either half of the data (the other half being used for the auxiliary models). The average between both fits is an efficient estimator. Below, DML is implemented \"properly\": with sample splitting, and debiased estimator."
      ]
    },
    {
      "cell_type": "code",
      "execution_count": null,
      "metadata": {
        "colab": {
          "background_save": true
        },
        "id": "aNIKpJu1EKc8",
        "outputId": "50b6df14-afa7-4494-9d4e-2bfd62645e0f"
      },
      "outputs": [
        {
          "name": "stderr",
          "output_type": "stream",
          "text": [
            "/usr/local/lib/python3.7/dist-packages/statsmodels/tsa/tsatools.py:117: FutureWarning: In a future version of pandas all arguments of concat except for the argument 'objs' will be keyword-only\n",
            "  x = pd.concat(x[::order], 1)\n"
          ]
        },
        {
          "name": "stdout",
          "output_type": "stream",
          "text": [
            "fitting model_y\n",
            "fitting model_t\n"
          ]
        },
        {
          "name": "stderr",
          "output_type": "stream",
          "text": [
            "/usr/local/lib/python3.7/dist-packages/statsmodels/tsa/tsatools.py:117: FutureWarning: In a future version of pandas all arguments of concat except for the argument 'objs' will be keyword-only\n",
            "  x = pd.concat(x[::order], 1)\n"
          ]
        },
        {
          "name": "stdout",
          "output_type": "stream",
          "text": [
            "DML elast:  -0.0737510146385254\n",
            "OLS elasticity for comparison: -0.07410945692809834\n",
            "fitting model_y\n",
            "fitting model_t\n"
          ]
        },
        {
          "name": "stderr",
          "output_type": "stream",
          "text": [
            "/usr/local/lib/python3.7/dist-packages/statsmodels/tsa/tsatools.py:117: FutureWarning: In a future version of pandas all arguments of concat except for the argument 'objs' will be keyword-only\n",
            "  x = pd.concat(x[::order], 1)\n"
          ]
        },
        {
          "name": "stdout",
          "output_type": "stream",
          "text": [
            "DML elast:  -0.06507890519231768\n",
            "OLS elasticity for comparison: -0.06485713873886899\n",
            "DML efficient estimate of elasticity: -0.06941495991542154\n"
          ]
        },
        {
          "data": {
            "image/png": "[encoded data removed]",
            "text/plain": [
              "<Figure size 1296x432 with 1 Axes>"
            ]
          },
          "metadata": {},
          "output_type": "display_data"
        }
      ],
      "source": [
        "from sklearn.model_selection import KFold\n",
        "old_fit = binned_ols(\n",
        "    df_mdl2,\n",
        "    x='dLnP',\n",
        "    y='dLnQ',\n",
        "    n_bins=15,\n",
        "    plot_ax=plt.gca(),\n",
        ")\n",
        "plt.gca().set(\n",
        "    xlabel='log(price)',\n",
        "    ylabel='log(quantity)',    \n",
        ")\n",
        "plt.gca().axvline(0, color='k', linestyle=':')\n",
        "plt.gca().axhline(0, color='k', linestyle=':')\n",
        "\n",
        "\n",
        "elast_estimates = list()\n",
        "for idx_aux, idx_inf in KFold(\n",
        "    n_splits=2, shuffle=True).split(df_mdl2):\n",
        "    \n",
        "    df_aux = df_mdl2.iloc[idx_aux]\n",
        "    df_inf = df_mdl2.iloc[idx_inf].copy()\n",
        "    \n",
        "    # step 1: aux models and residualize in inferential set\n",
        "    print('fitting model_y')\n",
        "    model_y.fit(df_aux, df_aux.dLnQ)\n",
        "    print('fitting model_t')\n",
        "    model_t.fit(df_aux, df_aux.dLnP)\n",
        "    \n",
        "    df_inf = df_inf.assign(\n",
        "        dLnP_res = df_inf['dLnP'] - model_t.predict(df_inf),\n",
        "        dLnQ_res = df_inf['dLnQ'] - model_y.predict(df_inf),\n",
        "    )\n",
        "    \n",
        "    binned_ols(\n",
        "        df_inf,\n",
        "        x='dLnP_res',\n",
        "        y='dLnQ_res',\n",
        "        n_bins=15,\n",
        "        plot_ax=plt.gca(),\n",
        "        label='fold'\n",
        "    )\n",
        "# ignore observations where we residualized away all variation in price\n",
        "    mask = (~(df_inf.dLnP_res.abs() < 0.01))\n",
        "    df_inf_censored = df_inf[mask]\n",
        "    \n",
        "    # step 2.1: Chernozhukov DML inference\n",
        "    elast = (\n",
        "        df_inf_censored['dLnP_res'].dot(df_inf_censored['dLnQ_res'])\n",
        "        /\n",
        "        df_inf_censored['dLnP_res'].dot(df_inf_censored['dLnP'])\n",
        "        # the last part here deviates from standard OLS solution\n",
        "    )\n",
        "    \n",
        "    print('DML elast: ', elast)\n",
        "    elast_estimates.append(elast)\n",
        "\n",
        "    print('OLS elasticity for comparison:',\n",
        "        df_inf_censored['dLnP_res'].dot(df_inf_censored['dLnQ_res'])\n",
        "        /\n",
        "        df_inf_censored['dLnP_res'].dot(df_inf_censored['dLnP_res'])\n",
        "    )    \n",
        "\n",
        "    elast_estimates.append(elast)\n",
        "\n",
        "print(\"DML efficient estimate of elasticity:\", np.mean(elast_estimates))"
      ]
    },
    {
      "cell_type": "code",
      "execution_count": null,
      "metadata": {
        "colab": {
          "background_save": true
        },
        "id": "jWXrFnoaEKge"
      },
      "outputs": [],
      "source": [
        ""
      ]
    },
    {
      "cell_type": "code",
      "execution_count": null,
      "metadata": {
        "colab": {
          "background_save": true
        },
        "id": "0Lvq2YmvCdj5"
      },
      "outputs": [],
      "source": [
        ""
      ]
    },
    {
      "cell_type": "code",
      "execution_count": null,
      "metadata": {
        "id": "EoiiLAfaCdnV"
      },
      "outputs": [],
      "source": [
        ""
      ]
    }
  ],
  "metadata": {
    "colab": {
      "name": "CausalImpact.ipynb",
      "provenance": [],
      "authorship_tag": "ABX9TyNqgRPde2B9JmXIMH2njEy6",
      "include_colab_link": true
    },
    "kernelspec": {
      "display_name": "Python 3",
      "name": "python3"
    },
    "language_info": {
      "name": "python"
    }
  },
  "nbformat": 4,
  "nbformat_minor": 0
}